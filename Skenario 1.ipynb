{
  "nbformat": 4,
  "nbformat_minor": 0,
  "metadata": {
    "colab": {
      "name": "Skenario 1.ipynb",
      "provenance": [],
      "collapsed_sections": []
    },
    "kernelspec": {
      "name": "python3",
      "display_name": "Python 3"
    },
    "language_info": {
      "name": "python"
    }
  },
  "cells": [
    {
      "cell_type": "markdown",
      "metadata": {
        "id": "jhAfPVxK11Ei"
      },
      "source": [
        "# Input Data"
      ]
    },
    {
      "cell_type": "code",
      "metadata": {
        "colab": {
          "base_uri": "https://localhost:8080/"
        },
        "id": "6EAJ7BB02L-_",
        "outputId": "a795f5dd-a7d4-4198-d8ec-04ed10458706"
      },
      "source": [
        "from google.colab import drive\n",
        "drive.mount('/content/drive')"
      ],
      "execution_count": null,
      "outputs": [
        {
          "output_type": "stream",
          "text": [
            "Mounted at /content/drive\n"
          ],
          "name": "stdout"
        }
      ]
    },
    {
      "cell_type": "code",
      "metadata": {
        "colab": {
          "base_uri": "https://localhost:8080/",
          "height": 204
        },
        "id": "atkbPlmz2ONL",
        "outputId": "1abb5b8e-4eb7-45cc-dffe-a1ee44bd1ef4"
      },
      "source": [
        "df= pd.read_excel('/content/drive/My Drive/dataset/Skripsi/data_v3.xlsx') \n",
        "df.head()"
      ],
      "execution_count": null,
      "outputs": [
        {
          "output_type": "execute_result",
          "data": {
            "text/html": [
              "<div>\n",
              "<style scoped>\n",
              "    .dataframe tbody tr th:only-of-type {\n",
              "        vertical-align: middle;\n",
              "    }\n",
              "\n",
              "    .dataframe tbody tr th {\n",
              "        vertical-align: top;\n",
              "    }\n",
              "\n",
              "    .dataframe thead th {\n",
              "        text-align: right;\n",
              "    }\n",
              "</style>\n",
              "<table border=\"1\" class=\"dataframe\">\n",
              "  <thead>\n",
              "    <tr style=\"text-align: right;\">\n",
              "      <th></th>\n",
              "      <th>Tweet</th>\n",
              "      <th>Anotator 1 (Trifebi Shina)</th>\n",
              "      <th>Anotator 2 (Mujaddid)</th>\n",
              "      <th>Anotator 3 (Harris Ishaq)</th>\n",
              "      <th>Sentimen Final</th>\n",
              "    </tr>\n",
              "  </thead>\n",
              "  <tbody>\n",
              "    <tr>\n",
              "      <th>0</th>\n",
              "      <td>Alat penjajah sekarang adalah UU cipta kerja &gt;...</td>\n",
              "      <td>Negatif</td>\n",
              "      <td>0</td>\n",
              "      <td>Negatif</td>\n",
              "      <td>Negatif</td>\n",
              "    </tr>\n",
              "    <tr>\n",
              "      <th>1</th>\n",
              "      <td>Aroma kepentingan asing dan pemilik modal sang...</td>\n",
              "      <td>Negatif</td>\n",
              "      <td>0</td>\n",
              "      <td>Negatif</td>\n",
              "      <td>Negatif</td>\n",
              "    </tr>\n",
              "    <tr>\n",
              "      <th>2</th>\n",
              "      <td>Serentak di seluruh Nusantara, buruh menolak U...</td>\n",
              "      <td>Negatif</td>\n",
              "      <td>0</td>\n",
              "      <td>Negatif</td>\n",
              "      <td>Negatif</td>\n",
              "    </tr>\n",
              "    <tr>\n",
              "      <th>3</th>\n",
              "      <td>Menjajah bangsa sendiri, usulan pemerintah zal...</td>\n",
              "      <td>Negatif</td>\n",
              "      <td>0</td>\n",
              "      <td>Negatif</td>\n",
              "      <td>Negatif</td>\n",
              "    </tr>\n",
              "    <tr>\n",
              "      <th>4</th>\n",
              "      <td>Negeri ini belum merdeka ..uu perbudakan lahir...</td>\n",
              "      <td>Negatif</td>\n",
              "      <td>0</td>\n",
              "      <td>Negatif</td>\n",
              "      <td>Negatif</td>\n",
              "    </tr>\n",
              "  </tbody>\n",
              "</table>\n",
              "</div>"
            ],
            "text/plain": [
              "                                               Tweet  ... Sentimen Final\n",
              "0  Alat penjajah sekarang adalah UU cipta kerja >...  ...        Negatif\n",
              "1  Aroma kepentingan asing dan pemilik modal sang...  ...        Negatif\n",
              "2  Serentak di seluruh Nusantara, buruh menolak U...  ...        Negatif\n",
              "3  Menjajah bangsa sendiri, usulan pemerintah zal...  ...        Negatif\n",
              "4  Negeri ini belum merdeka ..uu perbudakan lahir...  ...        Negatif\n",
              "\n",
              "[5 rows x 5 columns]"
            ]
          },
          "metadata": {
            "tags": []
          },
          "execution_count": 4
        }
      ]
    },
    {
      "cell_type": "code",
      "metadata": {
        "colab": {
          "base_uri": "https://localhost:8080/",
          "height": 204
        },
        "id": "oz_cR5cGTJNz",
        "outputId": "4adb6740-833c-4c64-e417-e979f88a1131"
      },
      "source": [
        "df.drop(['Anotator 1 (Trifebi Shina)', 'Anotator 2 (Mujaddid)', 'Anotator 3 (Harris Ishaq)'], axis=1, inplace=True)\n",
        "df.rename(columns = {'Sentimen Final':'Sentimen'}, inplace = True)\n",
        "df.head()"
      ],
      "execution_count": null,
      "outputs": [
        {
          "output_type": "execute_result",
          "data": {
            "text/html": [
              "<div>\n",
              "<style scoped>\n",
              "    .dataframe tbody tr th:only-of-type {\n",
              "        vertical-align: middle;\n",
              "    }\n",
              "\n",
              "    .dataframe tbody tr th {\n",
              "        vertical-align: top;\n",
              "    }\n",
              "\n",
              "    .dataframe thead th {\n",
              "        text-align: right;\n",
              "    }\n",
              "</style>\n",
              "<table border=\"1\" class=\"dataframe\">\n",
              "  <thead>\n",
              "    <tr style=\"text-align: right;\">\n",
              "      <th></th>\n",
              "      <th>Tweet</th>\n",
              "      <th>Sentimen</th>\n",
              "    </tr>\n",
              "  </thead>\n",
              "  <tbody>\n",
              "    <tr>\n",
              "      <th>0</th>\n",
              "      <td>Alat penjajah sekarang adalah UU cipta kerja &gt;...</td>\n",
              "      <td>Negatif</td>\n",
              "    </tr>\n",
              "    <tr>\n",
              "      <th>1</th>\n",
              "      <td>Aroma kepentingan asing dan pemilik modal sang...</td>\n",
              "      <td>Negatif</td>\n",
              "    </tr>\n",
              "    <tr>\n",
              "      <th>2</th>\n",
              "      <td>Serentak di seluruh Nusantara, buruh menolak U...</td>\n",
              "      <td>Negatif</td>\n",
              "    </tr>\n",
              "    <tr>\n",
              "      <th>3</th>\n",
              "      <td>Menjajah bangsa sendiri, usulan pemerintah zal...</td>\n",
              "      <td>Negatif</td>\n",
              "    </tr>\n",
              "    <tr>\n",
              "      <th>4</th>\n",
              "      <td>Negeri ini belum merdeka ..uu perbudakan lahir...</td>\n",
              "      <td>Negatif</td>\n",
              "    </tr>\n",
              "  </tbody>\n",
              "</table>\n",
              "</div>"
            ],
            "text/plain": [
              "                                               Tweet Sentimen\n",
              "0  Alat penjajah sekarang adalah UU cipta kerja >...  Negatif\n",
              "1  Aroma kepentingan asing dan pemilik modal sang...  Negatif\n",
              "2  Serentak di seluruh Nusantara, buruh menolak U...  Negatif\n",
              "3  Menjajah bangsa sendiri, usulan pemerintah zal...  Negatif\n",
              "4  Negeri ini belum merdeka ..uu perbudakan lahir...  Negatif"
            ]
          },
          "metadata": {
            "tags": []
          },
          "execution_count": 5
        }
      ]
    },
    {
      "cell_type": "code",
      "metadata": {
        "colab": {
          "base_uri": "https://localhost:8080/"
        },
        "id": "1Zn7lvjl2QOI",
        "outputId": "394e6bdd-7c22-498b-a9bd-951465504593"
      },
      "source": [
        "df.isnull().sum()"
      ],
      "execution_count": null,
      "outputs": [
        {
          "output_type": "execute_result",
          "data": {
            "text/plain": [
              "Tweet       0\n",
              "Sentimen    0\n",
              "dtype: int64"
            ]
          },
          "metadata": {
            "tags": []
          },
          "execution_count": 6
        }
      ]
    },
    {
      "cell_type": "code",
      "metadata": {
        "colab": {
          "base_uri": "https://localhost:8080/"
        },
        "id": "8hQ0WiLm2STh",
        "outputId": "e22af272-0bea-4be0-dc78-0018aec179f5"
      },
      "source": [
        "df.shape"
      ],
      "execution_count": null,
      "outputs": [
        {
          "output_type": "execute_result",
          "data": {
            "text/plain": [
              "(1000, 2)"
            ]
          },
          "metadata": {
            "tags": []
          },
          "execution_count": 7
        }
      ]
    },
    {
      "cell_type": "markdown",
      "metadata": {
        "id": "KDuLDhEg2U16"
      },
      "source": [
        "# Preprocessing"
      ]
    },
    {
      "cell_type": "code",
      "metadata": {
        "colab": {
          "base_uri": "https://localhost:8080/"
        },
        "id": "H_kK-mFX2XcB",
        "outputId": "30faf88c-8748-4f43-bfbb-b398762021fd"
      },
      "source": [
        "pip install Sastrawi"
      ],
      "execution_count": null,
      "outputs": [
        {
          "output_type": "stream",
          "text": [
            "Collecting Sastrawi\n",
            "\u001b[?25l  Downloading https://files.pythonhosted.org/packages/6f/4b/bab676953da3103003730b8fcdfadbdd20f333d4add10af949dd5c51e6ed/Sastrawi-1.0.1-py2.py3-none-any.whl (209kB)\n",
            "\r\u001b[K     |█▋                              | 10kB 15.7MB/s eta 0:00:01\r\u001b[K     |███▏                            | 20kB 13.9MB/s eta 0:00:01\r\u001b[K     |████▊                           | 30kB 17.6MB/s eta 0:00:01\r\u001b[K     |██████▎                         | 40kB 13.4MB/s eta 0:00:01\r\u001b[K     |███████▉                        | 51kB 9.4MB/s eta 0:00:01\r\u001b[K     |█████████▍                      | 61kB 9.0MB/s eta 0:00:01\r\u001b[K     |███████████                     | 71kB 10.0MB/s eta 0:00:01\r\u001b[K     |████████████▌                   | 81kB 10.5MB/s eta 0:00:01\r\u001b[K     |██████████████                  | 92kB 9.6MB/s eta 0:00:01\r\u001b[K     |███████████████▋                | 102kB 8.3MB/s eta 0:00:01\r\u001b[K     |█████████████████▏              | 112kB 8.3MB/s eta 0:00:01\r\u001b[K     |██████████████████▊             | 122kB 8.3MB/s eta 0:00:01\r\u001b[K     |████████████████████▎           | 133kB 8.3MB/s eta 0:00:01\r\u001b[K     |█████████████████████▉          | 143kB 8.3MB/s eta 0:00:01\r\u001b[K     |███████████████████████▍        | 153kB 8.3MB/s eta 0:00:01\r\u001b[K     |█████████████████████████       | 163kB 8.3MB/s eta 0:00:01\r\u001b[K     |██████████████████████████▋     | 174kB 8.3MB/s eta 0:00:01\r\u001b[K     |████████████████████████████▏   | 184kB 8.3MB/s eta 0:00:01\r\u001b[K     |█████████████████████████████▊  | 194kB 8.3MB/s eta 0:00:01\r\u001b[K     |███████████████████████████████▎| 204kB 8.3MB/s eta 0:00:01\r\u001b[K     |████████████████████████████████| 215kB 8.3MB/s \n",
            "\u001b[?25hInstalling collected packages: Sastrawi\n",
            "Successfully installed Sastrawi-1.0.1\n"
          ],
          "name": "stdout"
        }
      ]
    },
    {
      "cell_type": "code",
      "metadata": {
        "colab": {
          "base_uri": "https://localhost:8080/"
        },
        "id": "vXlleWcY2ZXT",
        "outputId": "0da273af-f2e7-4e87-d123-f4251fc330c6"
      },
      "source": [
        "#Import library untuk proses preprocessing\n",
        "pd.set_option('display.max_colwidth', None)\n",
        "import re\n",
        "import nltk\n",
        "nltk.download('stopwords')\n",
        "nltk.download('punkt')\n",
        "from nltk.corpus import stopwords\n",
        "from Sastrawi.Stemmer.StemmerFactory import StemmerFactory\n",
        "from nltk.tokenize import word_tokenize "
      ],
      "execution_count": null,
      "outputs": [
        {
          "output_type": "stream",
          "text": [
            "[nltk_data] Downloading package stopwords to /root/nltk_data...\n",
            "[nltk_data]   Unzipping corpora/stopwords.zip.\n",
            "[nltk_data] Downloading package punkt to /root/nltk_data...\n",
            "[nltk_data]   Unzipping tokenizers/punkt.zip.\n"
          ],
          "name": "stdout"
        }
      ]
    },
    {
      "cell_type": "code",
      "metadata": {
        "colab": {
          "base_uri": "https://localhost:8080/",
          "height": 238
        },
        "id": "qLNtUY8X2ona",
        "outputId": "531b6b8f-62c1-42a7-f0d1-2737ee087e2a"
      },
      "source": [
        "#Case folding\n",
        "df['Tweet'] = df['Tweet'].str.lower()\n",
        "df.head(5)"
      ],
      "execution_count": null,
      "outputs": [
        {
          "output_type": "execute_result",
          "data": {
            "text/html": [
              "<div>\n",
              "<style scoped>\n",
              "    .dataframe tbody tr th:only-of-type {\n",
              "        vertical-align: middle;\n",
              "    }\n",
              "\n",
              "    .dataframe tbody tr th {\n",
              "        vertical-align: top;\n",
              "    }\n",
              "\n",
              "    .dataframe thead th {\n",
              "        text-align: right;\n",
              "    }\n",
              "</style>\n",
              "<table border=\"1\" class=\"dataframe\">\n",
              "  <thead>\n",
              "    <tr style=\"text-align: right;\">\n",
              "      <th></th>\n",
              "      <th>Tweet</th>\n",
              "      <th>Sentimen</th>\n",
              "    </tr>\n",
              "  </thead>\n",
              "  <tbody>\n",
              "    <tr>\n",
              "      <th>0</th>\n",
              "      <td>alat penjajah sekarang adalah uu cipta kerja &gt;&gt; #buruhmenggugatuuciptakerja &lt;&lt; #tolakuuciptakerja &gt;&gt; pic.twitter.com/wpdhlo3djq</td>\n",
              "      <td>Negatif</td>\n",
              "    </tr>\n",
              "    <tr>\n",
              "      <th>1</th>\n",
              "      <td>aroma kepentingan asing dan pemilik modal sangat terasa dalam uu cipta kerja. tolak uu cipta kerja &gt;&gt; #buruhmenggugatuuciptakerja &lt;&lt; #uuciptakerjaalatpenjajahan#tolakuuciptakerja &gt;&gt; pic.twitter.com/i0p15fg9ba</td>\n",
              "      <td>Negatif</td>\n",
              "    </tr>\n",
              "    <tr>\n",
              "      <th>2</th>\n",
              "      <td>serentak di seluruh nusantara, buruh menolak uu yang baru di sahkan yang meresahkan pekerja &gt;&gt; #buruhmenggugatuuciptakerja &lt;&lt; #tolakuuciptakerja &gt;&gt; pic.twitter.com/whlraa20ck</td>\n",
              "      <td>Negatif</td>\n",
              "    </tr>\n",
              "    <tr>\n",
              "      <th>3</th>\n",
              "      <td>menjajah bangsa sendiri, usulan pemerintah zalim dan disetujui dewan pengkhianat rakyat &gt;&gt; #buruhmenggugatuuciptakerja &lt;&lt; #tolakuuciptakerja &gt;&gt; pic.twitter.com/zqlu4ej483</td>\n",
              "      <td>Negatif</td>\n",
              "    </tr>\n",
              "    <tr>\n",
              "      <th>4</th>\n",
              "      <td>negeri ini belum merdeka ..uu perbudakan lahir kembali oleh pemerintah zalim &gt;&gt; #buruhmenggugatuuciptakerja &lt;&lt; #tolakuuciptakerja &gt;&gt; pic.twitter.com/zgcixpzqdh</td>\n",
              "      <td>Negatif</td>\n",
              "    </tr>\n",
              "  </tbody>\n",
              "</table>\n",
              "</div>"
            ],
            "text/plain": [
              "                                                                                                                                                                                                              Tweet Sentimen\n",
              "0                                                                                   alat penjajah sekarang adalah uu cipta kerja >> #buruhmenggugatuuciptakerja << #tolakuuciptakerja >> pic.twitter.com/wpdhlo3djq  Negatif\n",
              "1  aroma kepentingan asing dan pemilik modal sangat terasa dalam uu cipta kerja. tolak uu cipta kerja >> #buruhmenggugatuuciptakerja << #uuciptakerjaalatpenjajahan#tolakuuciptakerja >> pic.twitter.com/i0p15fg9ba  Negatif\n",
              "2                                    serentak di seluruh nusantara, buruh menolak uu yang baru di sahkan yang meresahkan pekerja >> #buruhmenggugatuuciptakerja << #tolakuuciptakerja >> pic.twitter.com/whlraa20ck  Negatif\n",
              "3                                        menjajah bangsa sendiri, usulan pemerintah zalim dan disetujui dewan pengkhianat rakyat >> #buruhmenggugatuuciptakerja << #tolakuuciptakerja >> pic.twitter.com/zqlu4ej483  Negatif\n",
              "4                                                   negeri ini belum merdeka ..uu perbudakan lahir kembali oleh pemerintah zalim >> #buruhmenggugatuuciptakerja << #tolakuuciptakerja >> pic.twitter.com/zgcixpzqdh  Negatif"
            ]
          },
          "metadata": {
            "tags": []
          },
          "execution_count": 10
        }
      ]
    },
    {
      "cell_type": "code",
      "metadata": {
        "id": "Q3YYdb7z2rWH"
      },
      "source": [
        "#Cleansing\n",
        "def cleansing(docs):\n",
        "  tweet = re.sub(r'(http\\S+|https\\S+|twitter.com\\S+|pic.twitter\\S+)', '', docs)\n",
        "  clean_tweet = tweet.replace('\\n', '')\n",
        "  clean_tweet = re.sub('(@[A-Za-z0-9]+)|(#[A-Za-z0-9]+)|([^A-Za-z \\t])|(\\w+:\\/\\/\\S+)','', clean_tweet)\n",
        "  return clean_tweet"
      ],
      "execution_count": null,
      "outputs": []
    },
    {
      "cell_type": "code",
      "metadata": {
        "colab": {
          "base_uri": "https://localhost:8080/",
          "height": 204
        },
        "id": "Xyh0ib3i2t9P",
        "outputId": "9fc37c7f-3cb9-4246-c734-31ab9726db78"
      },
      "source": [
        "df['Tweet'] = df['Tweet'].apply(cleansing)\n",
        "df.head()"
      ],
      "execution_count": null,
      "outputs": [
        {
          "output_type": "execute_result",
          "data": {
            "text/html": [
              "<div>\n",
              "<style scoped>\n",
              "    .dataframe tbody tr th:only-of-type {\n",
              "        vertical-align: middle;\n",
              "    }\n",
              "\n",
              "    .dataframe tbody tr th {\n",
              "        vertical-align: top;\n",
              "    }\n",
              "\n",
              "    .dataframe thead th {\n",
              "        text-align: right;\n",
              "    }\n",
              "</style>\n",
              "<table border=\"1\" class=\"dataframe\">\n",
              "  <thead>\n",
              "    <tr style=\"text-align: right;\">\n",
              "      <th></th>\n",
              "      <th>Tweet</th>\n",
              "      <th>Sentimen</th>\n",
              "    </tr>\n",
              "  </thead>\n",
              "  <tbody>\n",
              "    <tr>\n",
              "      <th>0</th>\n",
              "      <td>alat penjajah sekarang adalah uu cipta kerja</td>\n",
              "      <td>Negatif</td>\n",
              "    </tr>\n",
              "    <tr>\n",
              "      <th>1</th>\n",
              "      <td>aroma kepentingan asing dan pemilik modal sangat terasa dalam uu cipta kerja tolak uu cipta kerja</td>\n",
              "      <td>Negatif</td>\n",
              "    </tr>\n",
              "    <tr>\n",
              "      <th>2</th>\n",
              "      <td>serentak di seluruh nusantara buruh menolak uu yang baru di sahkan yang meresahkan pekerja</td>\n",
              "      <td>Negatif</td>\n",
              "    </tr>\n",
              "    <tr>\n",
              "      <th>3</th>\n",
              "      <td>menjajah bangsa sendiri usulan pemerintah zalim dan disetujui dewan pengkhianat rakyat</td>\n",
              "      <td>Negatif</td>\n",
              "    </tr>\n",
              "    <tr>\n",
              "      <th>4</th>\n",
              "      <td>negeri ini belum merdeka uu perbudakan lahir kembali oleh pemerintah zalim</td>\n",
              "      <td>Negatif</td>\n",
              "    </tr>\n",
              "  </tbody>\n",
              "</table>\n",
              "</div>"
            ],
            "text/plain": [
              "                                                                                                     Tweet Sentimen\n",
              "0                                                       alat penjajah sekarang adalah uu cipta kerja        Negatif\n",
              "1  aroma kepentingan asing dan pemilik modal sangat terasa dalam uu cipta kerja tolak uu cipta kerja        Negatif\n",
              "2         serentak di seluruh nusantara buruh menolak uu yang baru di sahkan yang meresahkan pekerja        Negatif\n",
              "3             menjajah bangsa sendiri usulan pemerintah zalim dan disetujui dewan pengkhianat rakyat        Negatif\n",
              "4                         negeri ini belum merdeka uu perbudakan lahir kembali oleh pemerintah zalim        Negatif"
            ]
          },
          "metadata": {
            "tags": []
          },
          "execution_count": 12
        }
      ]
    },
    {
      "cell_type": "code",
      "metadata": {
        "id": "zZP5ayKD2v8q"
      },
      "source": [
        "#Tokenization\n",
        "def tokenize(docs):\n",
        "    return word_tokenize(docs)"
      ],
      "execution_count": null,
      "outputs": []
    },
    {
      "cell_type": "code",
      "metadata": {
        "colab": {
          "base_uri": "https://localhost:8080/",
          "height": 255
        },
        "id": "yYetxmr120xx",
        "outputId": "a25ef40d-49d1-495b-f9ab-95fd2502ad86"
      },
      "source": [
        "df['Token Tweet'] = df['Tweet'].apply(tokenize)\n",
        "df.head()"
      ],
      "execution_count": null,
      "outputs": [
        {
          "output_type": "execute_result",
          "data": {
            "text/html": [
              "<div>\n",
              "<style scoped>\n",
              "    .dataframe tbody tr th:only-of-type {\n",
              "        vertical-align: middle;\n",
              "    }\n",
              "\n",
              "    .dataframe tbody tr th {\n",
              "        vertical-align: top;\n",
              "    }\n",
              "\n",
              "    .dataframe thead th {\n",
              "        text-align: right;\n",
              "    }\n",
              "</style>\n",
              "<table border=\"1\" class=\"dataframe\">\n",
              "  <thead>\n",
              "    <tr style=\"text-align: right;\">\n",
              "      <th></th>\n",
              "      <th>Tweet</th>\n",
              "      <th>Sentimen</th>\n",
              "      <th>Token Tweet</th>\n",
              "    </tr>\n",
              "  </thead>\n",
              "  <tbody>\n",
              "    <tr>\n",
              "      <th>0</th>\n",
              "      <td>alat penjajah sekarang adalah uu cipta kerja</td>\n",
              "      <td>Negatif</td>\n",
              "      <td>[alat, penjajah, sekarang, adalah, uu, cipta, kerja]</td>\n",
              "    </tr>\n",
              "    <tr>\n",
              "      <th>1</th>\n",
              "      <td>aroma kepentingan asing dan pemilik modal sangat terasa dalam uu cipta kerja tolak uu cipta kerja</td>\n",
              "      <td>Negatif</td>\n",
              "      <td>[aroma, kepentingan, asing, dan, pemilik, modal, sangat, terasa, dalam, uu, cipta, kerja, tolak, uu, cipta, kerja]</td>\n",
              "    </tr>\n",
              "    <tr>\n",
              "      <th>2</th>\n",
              "      <td>serentak di seluruh nusantara buruh menolak uu yang baru di sahkan yang meresahkan pekerja</td>\n",
              "      <td>Negatif</td>\n",
              "      <td>[serentak, di, seluruh, nusantara, buruh, menolak, uu, yang, baru, di, sahkan, yang, meresahkan, pekerja]</td>\n",
              "    </tr>\n",
              "    <tr>\n",
              "      <th>3</th>\n",
              "      <td>menjajah bangsa sendiri usulan pemerintah zalim dan disetujui dewan pengkhianat rakyat</td>\n",
              "      <td>Negatif</td>\n",
              "      <td>[menjajah, bangsa, sendiri, usulan, pemerintah, zalim, dan, disetujui, dewan, pengkhianat, rakyat]</td>\n",
              "    </tr>\n",
              "    <tr>\n",
              "      <th>4</th>\n",
              "      <td>negeri ini belum merdeka uu perbudakan lahir kembali oleh pemerintah zalim</td>\n",
              "      <td>Negatif</td>\n",
              "      <td>[negeri, ini, belum, merdeka, uu, perbudakan, lahir, kembali, oleh, pemerintah, zalim]</td>\n",
              "    </tr>\n",
              "  </tbody>\n",
              "</table>\n",
              "</div>"
            ],
            "text/plain": [
              "                                                                                                     Tweet  ...                                                                                                         Token Tweet\n",
              "0                                                       alat penjajah sekarang adalah uu cipta kerja        ...                                                                [alat, penjajah, sekarang, adalah, uu, cipta, kerja]\n",
              "1  aroma kepentingan asing dan pemilik modal sangat terasa dalam uu cipta kerja tolak uu cipta kerja        ...  [aroma, kepentingan, asing, dan, pemilik, modal, sangat, terasa, dalam, uu, cipta, kerja, tolak, uu, cipta, kerja]\n",
              "2         serentak di seluruh nusantara buruh menolak uu yang baru di sahkan yang meresahkan pekerja        ...           [serentak, di, seluruh, nusantara, buruh, menolak, uu, yang, baru, di, sahkan, yang, meresahkan, pekerja]\n",
              "3             menjajah bangsa sendiri usulan pemerintah zalim dan disetujui dewan pengkhianat rakyat        ...                  [menjajah, bangsa, sendiri, usulan, pemerintah, zalim, dan, disetujui, dewan, pengkhianat, rakyat]\n",
              "4                         negeri ini belum merdeka uu perbudakan lahir kembali oleh pemerintah zalim        ...                              [negeri, ini, belum, merdeka, uu, perbudakan, lahir, kembali, oleh, pemerintah, zalim]\n",
              "\n",
              "[5 rows x 3 columns]"
            ]
          },
          "metadata": {
            "tags": []
          },
          "execution_count": 14
        }
      ]
    },
    {
      "cell_type": "code",
      "metadata": {
        "id": "oTTDTIiJ220z"
      },
      "source": [
        "#Stopword removal\n",
        "def stop_removal(docs):\n",
        "  words = stopwords.words('indonesian')\n",
        "  words.extend(['amp', 'sih', 'nih', 'nya', 'n', 'nn', 't', 'hehe', 'nan', 'loh', '&amp']) #Nanti ditambahin juga yang remove itu, karena ada beberapa kata penting dlm list stopword\n",
        "  words.remove('tidak')\n",
        "  words = set(words)\n",
        "  return [word for word in docs if word not in words]"
      ],
      "execution_count": null,
      "outputs": []
    },
    {
      "cell_type": "code",
      "metadata": {
        "colab": {
          "base_uri": "https://localhost:8080/",
          "height": 238
        },
        "id": "UR4EsG3127Ky",
        "outputId": "1f69d239-1b98-4bb3-ab51-2600366b7607"
      },
      "source": [
        "df['Token Tweet'] = df['Token Tweet'].apply(stop_removal)\n",
        "df.head()"
      ],
      "execution_count": null,
      "outputs": [
        {
          "output_type": "execute_result",
          "data": {
            "text/html": [
              "<div>\n",
              "<style scoped>\n",
              "    .dataframe tbody tr th:only-of-type {\n",
              "        vertical-align: middle;\n",
              "    }\n",
              "\n",
              "    .dataframe tbody tr th {\n",
              "        vertical-align: top;\n",
              "    }\n",
              "\n",
              "    .dataframe thead th {\n",
              "        text-align: right;\n",
              "    }\n",
              "</style>\n",
              "<table border=\"1\" class=\"dataframe\">\n",
              "  <thead>\n",
              "    <tr style=\"text-align: right;\">\n",
              "      <th></th>\n",
              "      <th>Tweet</th>\n",
              "      <th>Sentimen</th>\n",
              "      <th>Token Tweet</th>\n",
              "    </tr>\n",
              "  </thead>\n",
              "  <tbody>\n",
              "    <tr>\n",
              "      <th>0</th>\n",
              "      <td>alat penjajah sekarang adalah uu cipta kerja</td>\n",
              "      <td>Negatif</td>\n",
              "      <td>[alat, penjajah, uu, cipta, kerja]</td>\n",
              "    </tr>\n",
              "    <tr>\n",
              "      <th>1</th>\n",
              "      <td>aroma kepentingan asing dan pemilik modal sangat terasa dalam uu cipta kerja tolak uu cipta kerja</td>\n",
              "      <td>Negatif</td>\n",
              "      <td>[aroma, kepentingan, asing, pemilik, modal, uu, cipta, kerja, tolak, uu, cipta, kerja]</td>\n",
              "    </tr>\n",
              "    <tr>\n",
              "      <th>2</th>\n",
              "      <td>serentak di seluruh nusantara buruh menolak uu yang baru di sahkan yang meresahkan pekerja</td>\n",
              "      <td>Negatif</td>\n",
              "      <td>[serentak, nusantara, buruh, menolak, uu, sahkan, meresahkan, pekerja]</td>\n",
              "    </tr>\n",
              "    <tr>\n",
              "      <th>3</th>\n",
              "      <td>menjajah bangsa sendiri usulan pemerintah zalim dan disetujui dewan pengkhianat rakyat</td>\n",
              "      <td>Negatif</td>\n",
              "      <td>[menjajah, bangsa, usulan, pemerintah, zalim, disetujui, dewan, pengkhianat, rakyat]</td>\n",
              "    </tr>\n",
              "    <tr>\n",
              "      <th>4</th>\n",
              "      <td>negeri ini belum merdeka uu perbudakan lahir kembali oleh pemerintah zalim</td>\n",
              "      <td>Negatif</td>\n",
              "      <td>[negeri, merdeka, uu, perbudakan, lahir, pemerintah, zalim]</td>\n",
              "    </tr>\n",
              "  </tbody>\n",
              "</table>\n",
              "</div>"
            ],
            "text/plain": [
              "                                                                                                     Tweet  ...                                                                             Token Tweet\n",
              "0                                                       alat penjajah sekarang adalah uu cipta kerja        ...                                                      [alat, penjajah, uu, cipta, kerja]\n",
              "1  aroma kepentingan asing dan pemilik modal sangat terasa dalam uu cipta kerja tolak uu cipta kerja        ...  [aroma, kepentingan, asing, pemilik, modal, uu, cipta, kerja, tolak, uu, cipta, kerja]\n",
              "2         serentak di seluruh nusantara buruh menolak uu yang baru di sahkan yang meresahkan pekerja        ...                  [serentak, nusantara, buruh, menolak, uu, sahkan, meresahkan, pekerja]\n",
              "3             menjajah bangsa sendiri usulan pemerintah zalim dan disetujui dewan pengkhianat rakyat        ...    [menjajah, bangsa, usulan, pemerintah, zalim, disetujui, dewan, pengkhianat, rakyat]\n",
              "4                         negeri ini belum merdeka uu perbudakan lahir kembali oleh pemerintah zalim        ...                             [negeri, merdeka, uu, perbudakan, lahir, pemerintah, zalim]\n",
              "\n",
              "[5 rows x 3 columns]"
            ]
          },
          "metadata": {
            "tags": []
          },
          "execution_count": 16
        }
      ]
    },
    {
      "cell_type": "code",
      "metadata": {
        "id": "9BF_ibmY29Xc"
      },
      "source": [
        "#Stemming\n",
        "factory = StemmerFactory()\n",
        "stemmer = factory.create_stemmer()\n",
        "\n",
        "def stemming(docs):\n",
        "  return [stemmer.stem(word) for word in docs]"
      ],
      "execution_count": null,
      "outputs": []
    },
    {
      "cell_type": "code",
      "metadata": {
        "colab": {
          "base_uri": "https://localhost:8080/",
          "height": 204
        },
        "id": "sywi7j0f2_go",
        "outputId": "4d78c06d-bd9d-4e4c-fa82-ed1d2ff89e0b"
      },
      "source": [
        "df['Token Tweet'] = df['Token Tweet'].apply(stemming)\n",
        "df.head()"
      ],
      "execution_count": null,
      "outputs": [
        {
          "output_type": "execute_result",
          "data": {
            "text/html": [
              "<div>\n",
              "<style scoped>\n",
              "    .dataframe tbody tr th:only-of-type {\n",
              "        vertical-align: middle;\n",
              "    }\n",
              "\n",
              "    .dataframe tbody tr th {\n",
              "        vertical-align: top;\n",
              "    }\n",
              "\n",
              "    .dataframe thead th {\n",
              "        text-align: right;\n",
              "    }\n",
              "</style>\n",
              "<table border=\"1\" class=\"dataframe\">\n",
              "  <thead>\n",
              "    <tr style=\"text-align: right;\">\n",
              "      <th></th>\n",
              "      <th>Tweet</th>\n",
              "      <th>Sentimen</th>\n",
              "      <th>Token Tweet</th>\n",
              "    </tr>\n",
              "  </thead>\n",
              "  <tbody>\n",
              "    <tr>\n",
              "      <th>0</th>\n",
              "      <td>alat penjajah sekarang adalah uu cipta kerja</td>\n",
              "      <td>Negatif</td>\n",
              "      <td>[alat, jajah, uu, cipta, kerja]</td>\n",
              "    </tr>\n",
              "    <tr>\n",
              "      <th>1</th>\n",
              "      <td>aroma kepentingan asing dan pemilik modal sangat terasa dalam uu cipta kerja tolak uu cipta kerja</td>\n",
              "      <td>Negatif</td>\n",
              "      <td>[aroma, penting, asing, milik, modal, uu, cipta, kerja, tolak, uu, cipta, kerja]</td>\n",
              "    </tr>\n",
              "    <tr>\n",
              "      <th>2</th>\n",
              "      <td>serentak di seluruh nusantara buruh menolak uu yang baru di sahkan yang meresahkan pekerja</td>\n",
              "      <td>Negatif</td>\n",
              "      <td>[serentak, nusantara, buruh, tolak, uu, sahkan, resah, kerja]</td>\n",
              "    </tr>\n",
              "    <tr>\n",
              "      <th>3</th>\n",
              "      <td>menjajah bangsa sendiri usulan pemerintah zalim dan disetujui dewan pengkhianat rakyat</td>\n",
              "      <td>Negatif</td>\n",
              "      <td>[jajah, bangsa, usul, perintah, zalim, tuju, dewan, khianat, rakyat]</td>\n",
              "    </tr>\n",
              "    <tr>\n",
              "      <th>4</th>\n",
              "      <td>negeri ini belum merdeka uu perbudakan lahir kembali oleh pemerintah zalim</td>\n",
              "      <td>Negatif</td>\n",
              "      <td>[negeri, merdeka, uu, budak, lahir, perintah, zalim]</td>\n",
              "    </tr>\n",
              "  </tbody>\n",
              "</table>\n",
              "</div>"
            ],
            "text/plain": [
              "                                                                                                     Tweet  ...                                                                       Token Tweet\n",
              "0                                                       alat penjajah sekarang adalah uu cipta kerja        ...                                                   [alat, jajah, uu, cipta, kerja]\n",
              "1  aroma kepentingan asing dan pemilik modal sangat terasa dalam uu cipta kerja tolak uu cipta kerja        ...  [aroma, penting, asing, milik, modal, uu, cipta, kerja, tolak, uu, cipta, kerja]\n",
              "2         serentak di seluruh nusantara buruh menolak uu yang baru di sahkan yang meresahkan pekerja        ...                     [serentak, nusantara, buruh, tolak, uu, sahkan, resah, kerja]\n",
              "3             menjajah bangsa sendiri usulan pemerintah zalim dan disetujui dewan pengkhianat rakyat        ...              [jajah, bangsa, usul, perintah, zalim, tuju, dewan, khianat, rakyat]\n",
              "4                         negeri ini belum merdeka uu perbudakan lahir kembali oleh pemerintah zalim        ...                              [negeri, merdeka, uu, budak, lahir, perintah, zalim]\n",
              "\n",
              "[5 rows x 3 columns]"
            ]
          },
          "metadata": {
            "tags": []
          },
          "execution_count": 18
        }
      ]
    },
    {
      "cell_type": "markdown",
      "metadata": {
        "id": "w8yX3_xh3DXM"
      },
      "source": [
        "# TF-IDF"
      ]
    },
    {
      "cell_type": "code",
      "metadata": {
        "colab": {
          "base_uri": "https://localhost:8080/",
          "height": 272
        },
        "id": "ae8IQHHh3BfN",
        "outputId": "ae7d315f-9e9d-4c4d-85d7-a0143ae4525c"
      },
      "source": [
        "def join_text_list(texts):\n",
        "    return ' '.join([text for text in texts])\n",
        "df[\"Final Tweet\"] = df[\"Token Tweet\"].apply(join_text_list)\n",
        "df.head()"
      ],
      "execution_count": null,
      "outputs": [
        {
          "output_type": "execute_result",
          "data": {
            "text/html": [
              "<div>\n",
              "<style scoped>\n",
              "    .dataframe tbody tr th:only-of-type {\n",
              "        vertical-align: middle;\n",
              "    }\n",
              "\n",
              "    .dataframe tbody tr th {\n",
              "        vertical-align: top;\n",
              "    }\n",
              "\n",
              "    .dataframe thead th {\n",
              "        text-align: right;\n",
              "    }\n",
              "</style>\n",
              "<table border=\"1\" class=\"dataframe\">\n",
              "  <thead>\n",
              "    <tr style=\"text-align: right;\">\n",
              "      <th></th>\n",
              "      <th>Tweet</th>\n",
              "      <th>Sentimen</th>\n",
              "      <th>Token Tweet</th>\n",
              "      <th>Final Tweet</th>\n",
              "    </tr>\n",
              "  </thead>\n",
              "  <tbody>\n",
              "    <tr>\n",
              "      <th>0</th>\n",
              "      <td>alat penjajah sekarang adalah uu cipta kerja</td>\n",
              "      <td>Negatif</td>\n",
              "      <td>[alat, jajah, uu, cipta, kerja]</td>\n",
              "      <td>alat jajah uu cipta kerja</td>\n",
              "    </tr>\n",
              "    <tr>\n",
              "      <th>1</th>\n",
              "      <td>aroma kepentingan asing dan pemilik modal sangat terasa dalam uu cipta kerja tolak uu cipta kerja</td>\n",
              "      <td>Negatif</td>\n",
              "      <td>[aroma, penting, asing, milik, modal, uu, cipta, kerja, tolak, uu, cipta, kerja]</td>\n",
              "      <td>aroma penting asing milik modal uu cipta kerja tolak uu cipta kerja</td>\n",
              "    </tr>\n",
              "    <tr>\n",
              "      <th>2</th>\n",
              "      <td>serentak di seluruh nusantara buruh menolak uu yang baru di sahkan yang meresahkan pekerja</td>\n",
              "      <td>Negatif</td>\n",
              "      <td>[serentak, nusantara, buruh, tolak, uu, sahkan, resah, kerja]</td>\n",
              "      <td>serentak nusantara buruh tolak uu sahkan resah kerja</td>\n",
              "    </tr>\n",
              "    <tr>\n",
              "      <th>3</th>\n",
              "      <td>menjajah bangsa sendiri usulan pemerintah zalim dan disetujui dewan pengkhianat rakyat</td>\n",
              "      <td>Negatif</td>\n",
              "      <td>[jajah, bangsa, usul, perintah, zalim, tuju, dewan, khianat, rakyat]</td>\n",
              "      <td>jajah bangsa usul perintah zalim tuju dewan khianat rakyat</td>\n",
              "    </tr>\n",
              "    <tr>\n",
              "      <th>4</th>\n",
              "      <td>negeri ini belum merdeka uu perbudakan lahir kembali oleh pemerintah zalim</td>\n",
              "      <td>Negatif</td>\n",
              "      <td>[negeri, merdeka, uu, budak, lahir, perintah, zalim]</td>\n",
              "      <td>negeri merdeka uu budak lahir perintah zalim</td>\n",
              "    </tr>\n",
              "  </tbody>\n",
              "</table>\n",
              "</div>"
            ],
            "text/plain": [
              "                                                                                                     Tweet  ...                                                          Final Tweet\n",
              "0                                                       alat penjajah sekarang adalah uu cipta kerja        ...                                            alat jajah uu cipta kerja\n",
              "1  aroma kepentingan asing dan pemilik modal sangat terasa dalam uu cipta kerja tolak uu cipta kerja        ...  aroma penting asing milik modal uu cipta kerja tolak uu cipta kerja\n",
              "2         serentak di seluruh nusantara buruh menolak uu yang baru di sahkan yang meresahkan pekerja        ...                 serentak nusantara buruh tolak uu sahkan resah kerja\n",
              "3             menjajah bangsa sendiri usulan pemerintah zalim dan disetujui dewan pengkhianat rakyat        ...           jajah bangsa usul perintah zalim tuju dewan khianat rakyat\n",
              "4                         negeri ini belum merdeka uu perbudakan lahir kembali oleh pemerintah zalim        ...                         negeri merdeka uu budak lahir perintah zalim\n",
              "\n",
              "[5 rows x 4 columns]"
            ]
          },
          "metadata": {
            "tags": []
          },
          "execution_count": 19
        }
      ]
    },
    {
      "cell_type": "code",
      "metadata": {
        "id": "rezuiUu-3IRK"
      },
      "source": [
        "from sklearn.feature_extraction.text import TfidfVectorizer \n",
        "\n",
        "tf_idf = TfidfVectorizer(binary=True)\n",
        "tfidf_mat = tf_idf.fit_transform(df[\"Final Tweet\"]).toarray()"
      ],
      "execution_count": null,
      "outputs": []
    },
    {
      "cell_type": "code",
      "metadata": {
        "colab": {
          "base_uri": "https://localhost:8080/",
          "height": 253
        },
        "id": "52cxyjdO3KqO",
        "outputId": "bcf8785c-f5f6-404f-d008-9689a324e103"
      },
      "source": [
        "tfidf = pd.DataFrame(tfidf_mat, columns=tf_idf.get_feature_names())\n",
        "tfidf.head()"
      ],
      "execution_count": null,
      "outputs": [
        {
          "output_type": "execute_result",
          "data": {
            "text/html": [
              "<div>\n",
              "<style scoped>\n",
              "    .dataframe tbody tr th:only-of-type {\n",
              "        vertical-align: middle;\n",
              "    }\n",
              "\n",
              "    .dataframe tbody tr th {\n",
              "        vertical-align: top;\n",
              "    }\n",
              "\n",
              "    .dataframe thead th {\n",
              "        text-align: right;\n",
              "    }\n",
              "</style>\n",
              "<table border=\"1\" class=\"dataframe\">\n",
              "  <thead>\n",
              "    <tr style=\"text-align: right;\">\n",
              "      <th></th>\n",
              "      <th>aamiin</th>\n",
              "      <th>abai</th>\n",
              "      <th>abdi</th>\n",
              "      <th>abie</th>\n",
              "      <th>abk</th>\n",
              "      <th>absurd</th>\n",
              "      <th>acu</th>\n",
              "      <th>ada</th>\n",
              "      <th>adab</th>\n",
              "      <th>adart</th>\n",
              "      <th>adat</th>\n",
              "      <th>adek</th>\n",
              "      <th>adidaya</th>\n",
              "      <th>adil</th>\n",
              "      <th>administrasi</th>\n",
              "      <th>adu</th>\n",
              "      <th>agal</th>\n",
              "      <th>agama</th>\n",
              "      <th>agamawan</th>\n",
              "      <th>agenda</th>\n",
              "      <th>agraria</th>\n",
              "      <th>agung</th>\n",
              "      <th>ah</th>\n",
              "      <th>ahli</th>\n",
              "      <th>air</th>\n",
              "      <th>airlangga</th>\n",
              "      <th>aja</th>\n",
              "      <th>ajak</th>\n",
              "      <th>ajar</th>\n",
              "      <th>aju</th>\n",
              "      <th>akademik</th>\n",
              "      <th>akademisi</th>\n",
              "      <th>akal</th>\n",
              "      <th>akan</th>\n",
              "      <th>akhir</th>\n",
              "      <th>akhirat</th>\n",
              "      <th>akhlak</th>\n",
              "      <th>akibat</th>\n",
              "      <th>akomodasi</th>\n",
              "      <th>akselerasi</th>\n",
              "      <th>...</th>\n",
              "      <th>wakil</th>\n",
              "      <th>waktu</th>\n",
              "      <th>walkie</th>\n",
              "      <th>wapres</th>\n",
              "      <th>waras</th>\n",
              "      <th>warga</th>\n",
              "      <th>waris</th>\n",
              "      <th>warna</th>\n",
              "      <th>waspada</th>\n",
              "      <th>well</th>\n",
              "      <th>wenang</th>\n",
              "      <th>widodo</th>\n",
              "      <th>wikipedia</th>\n",
              "      <th>wilayah</th>\n",
              "      <th>wkwk</th>\n",
              "      <th>wna</th>\n",
              "      <th>woi</th>\n",
              "      <th>wow</th>\n",
              "      <th>woy</th>\n",
              "      <th>wuhan</th>\n",
              "      <th>wujud</th>\n",
              "      <th>xcxajc</th>\n",
              "      <th>xfxfxaxa</th>\n",
              "      <th>xfxfxxaexfxfxxan</th>\n",
              "      <th>ya</th>\n",
              "      <th>yah</th>\n",
              "      <th>yakali</th>\n",
              "      <th>yakin</th>\n",
              "      <th>yangg</th>\n",
              "      <th>yes</th>\n",
              "      <th>yg</th>\n",
              "      <th>yng</th>\n",
              "      <th>yra</th>\n",
              "      <th>yth</th>\n",
              "      <th>yuana</th>\n",
              "      <th>yudicial</th>\n",
              "      <th>yuk</th>\n",
              "      <th>zalim</th>\n",
              "      <th>zero</th>\n",
              "      <th>zqn</th>\n",
              "    </tr>\n",
              "  </thead>\n",
              "  <tbody>\n",
              "    <tr>\n",
              "      <th>0</th>\n",
              "      <td>0.0</td>\n",
              "      <td>0.0</td>\n",
              "      <td>0.0</td>\n",
              "      <td>0.0</td>\n",
              "      <td>0.0</td>\n",
              "      <td>0.0</td>\n",
              "      <td>0.0</td>\n",
              "      <td>0.0</td>\n",
              "      <td>0.0</td>\n",
              "      <td>0.0</td>\n",
              "      <td>0.0</td>\n",
              "      <td>0.0</td>\n",
              "      <td>0.0</td>\n",
              "      <td>0.0</td>\n",
              "      <td>0.0</td>\n",
              "      <td>0.0</td>\n",
              "      <td>0.0</td>\n",
              "      <td>0.0</td>\n",
              "      <td>0.0</td>\n",
              "      <td>0.0</td>\n",
              "      <td>0.0</td>\n",
              "      <td>0.0</td>\n",
              "      <td>0.0</td>\n",
              "      <td>0.0</td>\n",
              "      <td>0.0</td>\n",
              "      <td>0.0</td>\n",
              "      <td>0.0</td>\n",
              "      <td>0.0</td>\n",
              "      <td>0.0</td>\n",
              "      <td>0.0</td>\n",
              "      <td>0.0</td>\n",
              "      <td>0.0</td>\n",
              "      <td>0.0</td>\n",
              "      <td>0.0</td>\n",
              "      <td>0.0</td>\n",
              "      <td>0.0</td>\n",
              "      <td>0.0</td>\n",
              "      <td>0.0</td>\n",
              "      <td>0.0</td>\n",
              "      <td>0.0</td>\n",
              "      <td>...</td>\n",
              "      <td>0.0</td>\n",
              "      <td>0.0</td>\n",
              "      <td>0.0</td>\n",
              "      <td>0.0</td>\n",
              "      <td>0.0</td>\n",
              "      <td>0.0</td>\n",
              "      <td>0.0</td>\n",
              "      <td>0.0</td>\n",
              "      <td>0.0</td>\n",
              "      <td>0.0</td>\n",
              "      <td>0.0</td>\n",
              "      <td>0.0</td>\n",
              "      <td>0.0</td>\n",
              "      <td>0.0</td>\n",
              "      <td>0.0</td>\n",
              "      <td>0.0</td>\n",
              "      <td>0.0</td>\n",
              "      <td>0.0</td>\n",
              "      <td>0.0</td>\n",
              "      <td>0.0</td>\n",
              "      <td>0.0</td>\n",
              "      <td>0.0</td>\n",
              "      <td>0.0</td>\n",
              "      <td>0.0</td>\n",
              "      <td>0.0</td>\n",
              "      <td>0.0</td>\n",
              "      <td>0.0</td>\n",
              "      <td>0.0</td>\n",
              "      <td>0.0</td>\n",
              "      <td>0.0</td>\n",
              "      <td>0.0</td>\n",
              "      <td>0.0</td>\n",
              "      <td>0.0</td>\n",
              "      <td>0.0</td>\n",
              "      <td>0.0</td>\n",
              "      <td>0.0</td>\n",
              "      <td>0.0</td>\n",
              "      <td>0.000000</td>\n",
              "      <td>0.0</td>\n",
              "      <td>0.0</td>\n",
              "    </tr>\n",
              "    <tr>\n",
              "      <th>1</th>\n",
              "      <td>0.0</td>\n",
              "      <td>0.0</td>\n",
              "      <td>0.0</td>\n",
              "      <td>0.0</td>\n",
              "      <td>0.0</td>\n",
              "      <td>0.0</td>\n",
              "      <td>0.0</td>\n",
              "      <td>0.0</td>\n",
              "      <td>0.0</td>\n",
              "      <td>0.0</td>\n",
              "      <td>0.0</td>\n",
              "      <td>0.0</td>\n",
              "      <td>0.0</td>\n",
              "      <td>0.0</td>\n",
              "      <td>0.0</td>\n",
              "      <td>0.0</td>\n",
              "      <td>0.0</td>\n",
              "      <td>0.0</td>\n",
              "      <td>0.0</td>\n",
              "      <td>0.0</td>\n",
              "      <td>0.0</td>\n",
              "      <td>0.0</td>\n",
              "      <td>0.0</td>\n",
              "      <td>0.0</td>\n",
              "      <td>0.0</td>\n",
              "      <td>0.0</td>\n",
              "      <td>0.0</td>\n",
              "      <td>0.0</td>\n",
              "      <td>0.0</td>\n",
              "      <td>0.0</td>\n",
              "      <td>0.0</td>\n",
              "      <td>0.0</td>\n",
              "      <td>0.0</td>\n",
              "      <td>0.0</td>\n",
              "      <td>0.0</td>\n",
              "      <td>0.0</td>\n",
              "      <td>0.0</td>\n",
              "      <td>0.0</td>\n",
              "      <td>0.0</td>\n",
              "      <td>0.0</td>\n",
              "      <td>...</td>\n",
              "      <td>0.0</td>\n",
              "      <td>0.0</td>\n",
              "      <td>0.0</td>\n",
              "      <td>0.0</td>\n",
              "      <td>0.0</td>\n",
              "      <td>0.0</td>\n",
              "      <td>0.0</td>\n",
              "      <td>0.0</td>\n",
              "      <td>0.0</td>\n",
              "      <td>0.0</td>\n",
              "      <td>0.0</td>\n",
              "      <td>0.0</td>\n",
              "      <td>0.0</td>\n",
              "      <td>0.0</td>\n",
              "      <td>0.0</td>\n",
              "      <td>0.0</td>\n",
              "      <td>0.0</td>\n",
              "      <td>0.0</td>\n",
              "      <td>0.0</td>\n",
              "      <td>0.0</td>\n",
              "      <td>0.0</td>\n",
              "      <td>0.0</td>\n",
              "      <td>0.0</td>\n",
              "      <td>0.0</td>\n",
              "      <td>0.0</td>\n",
              "      <td>0.0</td>\n",
              "      <td>0.0</td>\n",
              "      <td>0.0</td>\n",
              "      <td>0.0</td>\n",
              "      <td>0.0</td>\n",
              "      <td>0.0</td>\n",
              "      <td>0.0</td>\n",
              "      <td>0.0</td>\n",
              "      <td>0.0</td>\n",
              "      <td>0.0</td>\n",
              "      <td>0.0</td>\n",
              "      <td>0.0</td>\n",
              "      <td>0.000000</td>\n",
              "      <td>0.0</td>\n",
              "      <td>0.0</td>\n",
              "    </tr>\n",
              "    <tr>\n",
              "      <th>2</th>\n",
              "      <td>0.0</td>\n",
              "      <td>0.0</td>\n",
              "      <td>0.0</td>\n",
              "      <td>0.0</td>\n",
              "      <td>0.0</td>\n",
              "      <td>0.0</td>\n",
              "      <td>0.0</td>\n",
              "      <td>0.0</td>\n",
              "      <td>0.0</td>\n",
              "      <td>0.0</td>\n",
              "      <td>0.0</td>\n",
              "      <td>0.0</td>\n",
              "      <td>0.0</td>\n",
              "      <td>0.0</td>\n",
              "      <td>0.0</td>\n",
              "      <td>0.0</td>\n",
              "      <td>0.0</td>\n",
              "      <td>0.0</td>\n",
              "      <td>0.0</td>\n",
              "      <td>0.0</td>\n",
              "      <td>0.0</td>\n",
              "      <td>0.0</td>\n",
              "      <td>0.0</td>\n",
              "      <td>0.0</td>\n",
              "      <td>0.0</td>\n",
              "      <td>0.0</td>\n",
              "      <td>0.0</td>\n",
              "      <td>0.0</td>\n",
              "      <td>0.0</td>\n",
              "      <td>0.0</td>\n",
              "      <td>0.0</td>\n",
              "      <td>0.0</td>\n",
              "      <td>0.0</td>\n",
              "      <td>0.0</td>\n",
              "      <td>0.0</td>\n",
              "      <td>0.0</td>\n",
              "      <td>0.0</td>\n",
              "      <td>0.0</td>\n",
              "      <td>0.0</td>\n",
              "      <td>0.0</td>\n",
              "      <td>...</td>\n",
              "      <td>0.0</td>\n",
              "      <td>0.0</td>\n",
              "      <td>0.0</td>\n",
              "      <td>0.0</td>\n",
              "      <td>0.0</td>\n",
              "      <td>0.0</td>\n",
              "      <td>0.0</td>\n",
              "      <td>0.0</td>\n",
              "      <td>0.0</td>\n",
              "      <td>0.0</td>\n",
              "      <td>0.0</td>\n",
              "      <td>0.0</td>\n",
              "      <td>0.0</td>\n",
              "      <td>0.0</td>\n",
              "      <td>0.0</td>\n",
              "      <td>0.0</td>\n",
              "      <td>0.0</td>\n",
              "      <td>0.0</td>\n",
              "      <td>0.0</td>\n",
              "      <td>0.0</td>\n",
              "      <td>0.0</td>\n",
              "      <td>0.0</td>\n",
              "      <td>0.0</td>\n",
              "      <td>0.0</td>\n",
              "      <td>0.0</td>\n",
              "      <td>0.0</td>\n",
              "      <td>0.0</td>\n",
              "      <td>0.0</td>\n",
              "      <td>0.0</td>\n",
              "      <td>0.0</td>\n",
              "      <td>0.0</td>\n",
              "      <td>0.0</td>\n",
              "      <td>0.0</td>\n",
              "      <td>0.0</td>\n",
              "      <td>0.0</td>\n",
              "      <td>0.0</td>\n",
              "      <td>0.0</td>\n",
              "      <td>0.000000</td>\n",
              "      <td>0.0</td>\n",
              "      <td>0.0</td>\n",
              "    </tr>\n",
              "    <tr>\n",
              "      <th>3</th>\n",
              "      <td>0.0</td>\n",
              "      <td>0.0</td>\n",
              "      <td>0.0</td>\n",
              "      <td>0.0</td>\n",
              "      <td>0.0</td>\n",
              "      <td>0.0</td>\n",
              "      <td>0.0</td>\n",
              "      <td>0.0</td>\n",
              "      <td>0.0</td>\n",
              "      <td>0.0</td>\n",
              "      <td>0.0</td>\n",
              "      <td>0.0</td>\n",
              "      <td>0.0</td>\n",
              "      <td>0.0</td>\n",
              "      <td>0.0</td>\n",
              "      <td>0.0</td>\n",
              "      <td>0.0</td>\n",
              "      <td>0.0</td>\n",
              "      <td>0.0</td>\n",
              "      <td>0.0</td>\n",
              "      <td>0.0</td>\n",
              "      <td>0.0</td>\n",
              "      <td>0.0</td>\n",
              "      <td>0.0</td>\n",
              "      <td>0.0</td>\n",
              "      <td>0.0</td>\n",
              "      <td>0.0</td>\n",
              "      <td>0.0</td>\n",
              "      <td>0.0</td>\n",
              "      <td>0.0</td>\n",
              "      <td>0.0</td>\n",
              "      <td>0.0</td>\n",
              "      <td>0.0</td>\n",
              "      <td>0.0</td>\n",
              "      <td>0.0</td>\n",
              "      <td>0.0</td>\n",
              "      <td>0.0</td>\n",
              "      <td>0.0</td>\n",
              "      <td>0.0</td>\n",
              "      <td>0.0</td>\n",
              "      <td>...</td>\n",
              "      <td>0.0</td>\n",
              "      <td>0.0</td>\n",
              "      <td>0.0</td>\n",
              "      <td>0.0</td>\n",
              "      <td>0.0</td>\n",
              "      <td>0.0</td>\n",
              "      <td>0.0</td>\n",
              "      <td>0.0</td>\n",
              "      <td>0.0</td>\n",
              "      <td>0.0</td>\n",
              "      <td>0.0</td>\n",
              "      <td>0.0</td>\n",
              "      <td>0.0</td>\n",
              "      <td>0.0</td>\n",
              "      <td>0.0</td>\n",
              "      <td>0.0</td>\n",
              "      <td>0.0</td>\n",
              "      <td>0.0</td>\n",
              "      <td>0.0</td>\n",
              "      <td>0.0</td>\n",
              "      <td>0.0</td>\n",
              "      <td>0.0</td>\n",
              "      <td>0.0</td>\n",
              "      <td>0.0</td>\n",
              "      <td>0.0</td>\n",
              "      <td>0.0</td>\n",
              "      <td>0.0</td>\n",
              "      <td>0.0</td>\n",
              "      <td>0.0</td>\n",
              "      <td>0.0</td>\n",
              "      <td>0.0</td>\n",
              "      <td>0.0</td>\n",
              "      <td>0.0</td>\n",
              "      <td>0.0</td>\n",
              "      <td>0.0</td>\n",
              "      <td>0.0</td>\n",
              "      <td>0.0</td>\n",
              "      <td>0.292791</td>\n",
              "      <td>0.0</td>\n",
              "      <td>0.0</td>\n",
              "    </tr>\n",
              "    <tr>\n",
              "      <th>4</th>\n",
              "      <td>0.0</td>\n",
              "      <td>0.0</td>\n",
              "      <td>0.0</td>\n",
              "      <td>0.0</td>\n",
              "      <td>0.0</td>\n",
              "      <td>0.0</td>\n",
              "      <td>0.0</td>\n",
              "      <td>0.0</td>\n",
              "      <td>0.0</td>\n",
              "      <td>0.0</td>\n",
              "      <td>0.0</td>\n",
              "      <td>0.0</td>\n",
              "      <td>0.0</td>\n",
              "      <td>0.0</td>\n",
              "      <td>0.0</td>\n",
              "      <td>0.0</td>\n",
              "      <td>0.0</td>\n",
              "      <td>0.0</td>\n",
              "      <td>0.0</td>\n",
              "      <td>0.0</td>\n",
              "      <td>0.0</td>\n",
              "      <td>0.0</td>\n",
              "      <td>0.0</td>\n",
              "      <td>0.0</td>\n",
              "      <td>0.0</td>\n",
              "      <td>0.0</td>\n",
              "      <td>0.0</td>\n",
              "      <td>0.0</td>\n",
              "      <td>0.0</td>\n",
              "      <td>0.0</td>\n",
              "      <td>0.0</td>\n",
              "      <td>0.0</td>\n",
              "      <td>0.0</td>\n",
              "      <td>0.0</td>\n",
              "      <td>0.0</td>\n",
              "      <td>0.0</td>\n",
              "      <td>0.0</td>\n",
              "      <td>0.0</td>\n",
              "      <td>0.0</td>\n",
              "      <td>0.0</td>\n",
              "      <td>...</td>\n",
              "      <td>0.0</td>\n",
              "      <td>0.0</td>\n",
              "      <td>0.0</td>\n",
              "      <td>0.0</td>\n",
              "      <td>0.0</td>\n",
              "      <td>0.0</td>\n",
              "      <td>0.0</td>\n",
              "      <td>0.0</td>\n",
              "      <td>0.0</td>\n",
              "      <td>0.0</td>\n",
              "      <td>0.0</td>\n",
              "      <td>0.0</td>\n",
              "      <td>0.0</td>\n",
              "      <td>0.0</td>\n",
              "      <td>0.0</td>\n",
              "      <td>0.0</td>\n",
              "      <td>0.0</td>\n",
              "      <td>0.0</td>\n",
              "      <td>0.0</td>\n",
              "      <td>0.0</td>\n",
              "      <td>0.0</td>\n",
              "      <td>0.0</td>\n",
              "      <td>0.0</td>\n",
              "      <td>0.0</td>\n",
              "      <td>0.0</td>\n",
              "      <td>0.0</td>\n",
              "      <td>0.0</td>\n",
              "      <td>0.0</td>\n",
              "      <td>0.0</td>\n",
              "      <td>0.0</td>\n",
              "      <td>0.0</td>\n",
              "      <td>0.0</td>\n",
              "      <td>0.0</td>\n",
              "      <td>0.0</td>\n",
              "      <td>0.0</td>\n",
              "      <td>0.0</td>\n",
              "      <td>0.0</td>\n",
              "      <td>0.347168</td>\n",
              "      <td>0.0</td>\n",
              "      <td>0.0</td>\n",
              "    </tr>\n",
              "  </tbody>\n",
              "</table>\n",
              "<p>5 rows × 2043 columns</p>\n",
              "</div>"
            ],
            "text/plain": [
              "   aamiin  abai  abdi  abie  abk  ...  yudicial  yuk     zalim  zero  zqn\n",
              "0     0.0   0.0   0.0   0.0  0.0  ...       0.0  0.0  0.000000   0.0  0.0\n",
              "1     0.0   0.0   0.0   0.0  0.0  ...       0.0  0.0  0.000000   0.0  0.0\n",
              "2     0.0   0.0   0.0   0.0  0.0  ...       0.0  0.0  0.000000   0.0  0.0\n",
              "3     0.0   0.0   0.0   0.0  0.0  ...       0.0  0.0  0.292791   0.0  0.0\n",
              "4     0.0   0.0   0.0   0.0  0.0  ...       0.0  0.0  0.347168   0.0  0.0\n",
              "\n",
              "[5 rows x 2043 columns]"
            ]
          },
          "metadata": {
            "tags": []
          },
          "execution_count": 21
        }
      ]
    },
    {
      "cell_type": "code",
      "metadata": {
        "colab": {
          "base_uri": "https://localhost:8080/"
        },
        "id": "BfCoOfbk3Ung",
        "outputId": "c4ea2d02-b690-456a-c5bb-48eabca208a8"
      },
      "source": [
        "X = tfidf.values\n",
        "X"
      ],
      "execution_count": null,
      "outputs": [
        {
          "output_type": "execute_result",
          "data": {
            "text/plain": [
              "array([[0., 0., 0., ..., 0., 0., 0.],\n",
              "       [0., 0., 0., ..., 0., 0., 0.],\n",
              "       [0., 0., 0., ..., 0., 0., 0.],\n",
              "       ...,\n",
              "       [0., 0., 0., ..., 0., 0., 0.],\n",
              "       [0., 0., 0., ..., 0., 0., 0.],\n",
              "       [0., 0., 0., ..., 0., 0., 0.]])"
            ]
          },
          "metadata": {
            "tags": []
          },
          "execution_count": 22
        }
      ]
    },
    {
      "cell_type": "code",
      "metadata": {
        "colab": {
          "base_uri": "https://localhost:8080/"
        },
        "id": "DyMypZowVguO",
        "outputId": "406154cb-e8c7-484a-adef-911bc2f25021"
      },
      "source": [
        "label = np.where(df['Sentimen']=='Positif', 1, 0)\n",
        "y = label\n",
        "y[45:75]"
      ],
      "execution_count": null,
      "outputs": [
        {
          "output_type": "execute_result",
          "data": {
            "text/plain": [
              "array([1, 1, 1, 1, 1, 1, 1, 1, 1, 1, 1, 1, 1, 1, 0, 0, 0, 0, 0, 0, 0, 0,\n",
              "       0, 0, 0, 0, 0, 0, 0, 0])"
            ]
          },
          "metadata": {
            "tags": []
          },
          "execution_count": 23
        }
      ]
    },
    {
      "cell_type": "markdown",
      "metadata": {
        "id": "I1oJvGkHN4ch"
      },
      "source": [
        "# Klasifikasi SVM Parameter Default (Tanpa PSO) - Skenario 1"
      ]
    },
    {
      "cell_type": "code",
      "metadata": {
        "id": "xdLSzHD6DE--"
      },
      "source": [
        "from sklearn import model_selection, svm\n",
        "from sklearn.model_selection import KFold\n",
        "\n",
        "from sklearn.metrics import accuracy_score\n",
        "from sklearn.metrics import precision_score\n",
        "from sklearn.metrics import recall_score\n",
        "from sklearn.metrics import confusion_matrix\n",
        "from sklearn.preprocessing import LabelEncoder\n",
        "\n",
        "from scipy.sparse import csr_matrix as matrixTransform"
      ],
      "execution_count": null,
      "outputs": []
    },
    {
      "cell_type": "code",
      "metadata": {
        "id": "YKrG-ez4XskH"
      },
      "source": [
        "class myClass:\n",
        "    def __init__(self):\n",
        "        self.recall = 0\n",
        "        self.acc = 0\n",
        "        self.pres = 0\n",
        "    def getRecall(self):\n",
        "        return self.recall\n",
        "    def getPres(self):\n",
        "        return self.pres\n",
        "    def setRecall(self, recall):\n",
        "        self.recall = recall\n",
        "    def setPres(self, pres):\n",
        "        self.pres = pres"
      ],
      "execution_count": null,
      "outputs": []
    },
    {
      "cell_type": "code",
      "metadata": {
        "id": "CGJb3PO9N7Pn"
      },
      "source": [
        "def classify2():\n",
        "\n",
        "    SVM = svm.SVC(C=1, gamma='scale', kernel='rbf', probability=True)\n",
        "    SVM.fit(Train_X_final, y_train)\n",
        "    predictions_SVM = SVM.predict(Test_X_final)\n",
        "\n",
        "    acc = accuracy_score(predictions_SVM, y_test)\n",
        "    CM = confusion_matrix(y_test, predictions_SVM)\n",
        "    TN = CM[0][0]\n",
        "    FN = CM[1][0]\n",
        "    TP = CM[1][1]\n",
        "    FP = CM[0][1]\n",
        "    try :\n",
        "        pres = TP/(TP+FP)\n",
        "    except :\n",
        "        pres = 0  \n",
        "    accu = (TP+TN)/(TP+FP+TN+FN)\n",
        "    recall = TP/(TP+FN)\n",
        "\n",
        "    acc = accuracy_score(y_test, predictions_SVM)\n",
        "    recll = recall_score(y_test, predictions_SVM)\n",
        "    prec = precision_score(y_test, predictions_SVM)\n",
        "    \n",
        "    obj.setRecall(recall)\n",
        "    obj.setPres(pres)\n",
        "    \n",
        "    print(\"Confusion Matrix\")\n",
        "    print(CM)\n",
        "    return accu"
      ],
      "execution_count": null,
      "outputs": []
    },
    {
      "cell_type": "code",
      "metadata": {
        "colab": {
          "base_uri": "https://localhost:8080/"
        },
        "id": "Gn4jETXxUo-P",
        "outputId": "c228eea2-9d4a-46a6-d07d-d1ea8e44e9b1"
      },
      "source": [
        "obj = myClass()\n",
        "acc_scores = []\n",
        "presisi_scores = []\n",
        "recall_scores = []\n",
        "cv = KFold(n_splits=10, random_state=32, shuffle=True)\n",
        "for train_index, test_index in cv.split(X):\n",
        "    X_train, X_test, y_train, y_test = X[train_index], X[test_index], y[train_index], y[test_index]\n",
        "\n",
        "    Test_X_final = matrixTransform(X_test)\n",
        "    Train_X_final = matrixTransform(X_train)    \n",
        "    print(\"Data Train :\", len(X_train))\n",
        "    print(\"Data Test :\", len(X_test))\n",
        "\n",
        "    acc= classify2()\n",
        "    acc_scores.append(acc)\n",
        "    presisi_scores.append(obj.getPres())\n",
        "    recall_scores.append(obj.getRecall())"
      ],
      "execution_count": null,
      "outputs": [
        {
          "output_type": "stream",
          "text": [
            "Data Train : 900\n",
            "Data Test : 100\n",
            "Confusion Matrix\n",
            "[[44  4]\n",
            " [10 42]]\n",
            "Data Train : 900\n",
            "Data Test : 100\n",
            "Confusion Matrix\n",
            "[[43  2]\n",
            " [ 2 53]]\n",
            "Data Train : 900\n",
            "Data Test : 100\n",
            "Confusion Matrix\n",
            "[[44  1]\n",
            " [10 45]]\n",
            "Data Train : 900\n",
            "Data Test : 100\n",
            "Confusion Matrix\n",
            "[[55  0]\n",
            " [ 2 43]]\n",
            "Data Train : 900\n",
            "Data Test : 100\n",
            "Confusion Matrix\n",
            "[[46  1]\n",
            " [ 4 49]]\n",
            "Data Train : 900\n",
            "Data Test : 100\n",
            "Confusion Matrix\n",
            "[[44  0]\n",
            " [ 4 52]]\n",
            "Data Train : 900\n",
            "Data Test : 100\n",
            "Confusion Matrix\n",
            "[[56  3]\n",
            " [ 4 37]]\n",
            "Data Train : 900\n",
            "Data Test : 100\n",
            "Confusion Matrix\n",
            "[[53  1]\n",
            " [ 6 40]]\n",
            "Data Train : 900\n",
            "Data Test : 100\n",
            "Confusion Matrix\n",
            "[[51  2]\n",
            " [ 9 38]]\n",
            "Data Train : 900\n",
            "Data Test : 100\n",
            "Confusion Matrix\n",
            "[[49  1]\n",
            " [ 4 46]]\n"
          ],
          "name": "stdout"
        }
      ]
    },
    {
      "cell_type": "code",
      "metadata": {
        "colab": {
          "base_uri": "https://localhost:8080/"
        },
        "id": "nPf3U7IaVMRv",
        "outputId": "bcf8b99f-7c6f-40fc-9887-ea572ad0c69b"
      },
      "source": [
        "print(\"Pengujian tanpa optimasi...\")\n",
        "print(\"Accuracy :\", acc_scores)\n",
        "print(\"Presisi :\", presisi_scores)\n",
        "print(\"Recall :\", recall_scores)\n",
        "print(\"Accuracy Average :\", np.mean(acc_scores))\n",
        "print(\"Presisi Average :\", np.mean(presisi_scores)) \n",
        "print(\"Recall Average :\", np.mean(recall_scores))"
      ],
      "execution_count": null,
      "outputs": [
        {
          "output_type": "stream",
          "text": [
            "Pengujian tanpa optimasi...\n",
            "Accuracy : [0.86, 0.96, 0.89, 0.98, 0.95, 0.96, 0.93, 0.93, 0.89, 0.95]\n",
            "Presisi : [0.9130434782608695, 0.9636363636363636, 0.9782608695652174, 1.0, 0.98, 1.0, 0.925, 0.975609756097561, 0.95, 0.9787234042553191]\n",
            "Recall : [0.8076923076923077, 0.9636363636363636, 0.8181818181818182, 0.9555555555555556, 0.9245283018867925, 0.9285714285714286, 0.9024390243902439, 0.8695652173913043, 0.8085106382978723, 0.92]\n",
            "Accuracy Average : 0.9299999999999999\n",
            "Presisi Average : 0.9664273871815331\n",
            "Recall Average : 0.8898680655603688\n"
          ],
          "name": "stdout"
        }
      ]
    },
    {
      "cell_type": "code",
      "metadata": {
        "id": "FwH2uK3VFva3"
      },
      "source": [
        ""
      ],
      "execution_count": null,
      "outputs": []
    }
  ]
}