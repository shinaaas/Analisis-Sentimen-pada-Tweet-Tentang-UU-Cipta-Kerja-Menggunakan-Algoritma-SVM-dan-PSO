{
  "nbformat": 4,
  "nbformat_minor": 0,
  "metadata": {
    "colab": {
      "name": "Skenario 2 (Iterasi 10x).ipynb",
      "provenance": [],
      "collapsed_sections": []
    },
    "kernelspec": {
      "name": "python3",
      "display_name": "Python 3"
    },
    "language_info": {
      "name": "python"
    }
  },
  "cells": [
    {
      "cell_type": "markdown",
      "metadata": {
        "id": "b21Nbq_OeUZL"
      },
      "source": [
        "# PSO"
      ]
    },
    {
      "cell_type": "code",
      "metadata": {
        "id": "8Nbk0ScodMAS"
      },
      "source": [
        "import numpy as np \n",
        "import pandas as pd\n",
        "import random\n",
        "import time"
      ],
      "execution_count": 1,
      "outputs": []
    },
    {
      "cell_type": "code",
      "metadata": {
        "id": "cebGMatjeZqW"
      },
      "source": [
        "class PSO:\n",
        "    def __init__(self, function, minimum = True, n_particles=10, iteration=100, n_dim=1, options={'c1':0.3, 'c2':0.5, 'w':0.9}, bound=[], lr_reduce=False):\n",
        "        self.function = function\n",
        "        self.minimum = minimum\n",
        "        self.n_particles = n_particles\n",
        "        self.iteration = iteration\n",
        "        self.n_dim = n_dim\n",
        "        self.options = options\n",
        "        self.bound = bound\n",
        "        self.lr_reduce = lr_reduce\n",
        "\n",
        "    def optimize(self):\n",
        "        u_teta = 0.9\n",
        "        l_teta = 0.4\n",
        "        #Inisialisasi awal posisi dan kecepatan partikel\n",
        "        _position = np.zeros((self.n_particles, self.n_dim))\n",
        "        _velocity = np.zeros((self.n_particles, self.n_dim))\n",
        "        #print(self.bound)\n",
        "        if self.bound is not None :\n",
        "            for i in range(self.n_dim):\n",
        "                _min  = self.bound[i][0]\n",
        "                _max = self.bound[i][1]\n",
        "                \n",
        "                for j in range(self.n_particles):\n",
        "                    _position[j][i] = random.uniform(_min, _max)\n",
        "                    _velocity[j][i] = random.uniform(-abs(_max-_min), abs(_max-_min))\n",
        "        else :\n",
        "            for i in range(self.n_dim) :\n",
        "                for j in range(self.n_particles):\n",
        "                    _position[j][i] = random.uniform(0, 10)\n",
        "                    _velocity[j][i] = random.uniform(-abs(10-0), abs(10-0))\n",
        "        #print(\"Partikel Awal :\"+str(_position))\n",
        "        #print(\"Kecepatan Awal :\"+str(_velocity))\n",
        "        #Evaluasi nilai partikel terhadap fungsi\n",
        "        #Tentukan Local Best dan Global Best\n",
        "        #1. Evaluasi setiap posisi partikel terhadap fungsi\n",
        "        #2. Tentukan Local Best dan Global Best\n",
        "        #3. Local Best pada iterasi pertama adalah nilai posisi dari partikel itu sendiri\n",
        "        #4. Global Best merupakan nilai dengan nilai fitness terbaik dari semua partikel\n",
        "        #Local Best\n",
        "        local_value = []\n",
        "        local_best = []\n",
        "        for i in _position:\n",
        "            value = self.function(i)\n",
        "            local_value.append(value)\n",
        "            local_best.append(i)\n",
        "        #Global Best\n",
        "        best_value = max(local_value)\n",
        "        global_best = local_best[local_value.index(max(local_value))]\n",
        "        #Update kecepatan dan posisi partikel\n",
        "        it = 0\n",
        "        stop = False\n",
        "        print(\"Update Partikel!!!\")\n",
        "        while(it < self.iteration):\n",
        "            if stop :\n",
        "                break\n",
        "            else:\n",
        "                #Pereduksian nilai teta (w)\n",
        "                if self.lr_reduce:\n",
        "                    self.options['w'] = u_teta - ((u_teta-l_teta)/self.iteration)*(it+1)\n",
        "                for i in range(len(_position)):\n",
        "                    #Membuat new_pos sesuai dengan n_dim, diisi dengan nilai 0\n",
        "                    new_position = np.zeros((1, self.n_dim))[0]\n",
        "                    for j in range(len(_position[i])):\n",
        "                        r1 = random.uniform(0,1)\n",
        "                        r2 = random.uniform(0,1)\n",
        "                        new_vel = (self.options['w']*_velocity[i][j]) + (self.options['c1']*r1*(local_best[i]-_position[i][j]))+(self.options['c2']*r2*(global_best - _position[i][j]))\n",
        "                        new_pos = new_vel + _position[i][j]\n",
        "                        new_position[j] = new_pos[0]    \n",
        "                        _velocity[i][j] = new_vel[0]\n",
        "                        #new_position[j] = new_pos[0]\n",
        "                    #Update Local Best dan Global Best dengan membandingkan nilai fitness posisi baru dengan localbest sebelumnya    \n",
        "                    #Update Local Best\n",
        "                    if self.minimum :\n",
        "                        if self.function(new_position) < self.function(local_best[i]) :\n",
        "                            local_best[i] = new_position\n",
        "                            local_value[i] = self.function(new_position)\n",
        "                    else :\n",
        "                        if self.function(new_position) > self.function(local_best[i]) :\n",
        "                            local_best[i] = new_position\n",
        "                            local_value[i] = self.function(new_position)\n",
        "                    #Update Global Best\n",
        "                    if self.minimum :\n",
        "                        best_value = min(local_value)\n",
        "                        global_best = local_best[local_value.index(min(local_value))]\n",
        "                    else :\n",
        "                        best_value = max(local_value)\n",
        "                        global_best = local_best[local_value.index(max(local_value))]\n",
        "            it += 1\n",
        "        #Return value\n",
        "        return global_best, best_value"
      ],
      "execution_count": 2,
      "outputs": []
    },
    {
      "cell_type": "markdown",
      "metadata": {
        "id": "jhAfPVxK11Ei"
      },
      "source": [
        "# Input Data"
      ]
    },
    {
      "cell_type": "code",
      "metadata": {
        "colab": {
          "base_uri": "https://localhost:8080/"
        },
        "id": "6EAJ7BB02L-_",
        "outputId": "7e3628b6-1233-4ca1-f493-974c8bf968e3"
      },
      "source": [
        "from google.colab import drive\n",
        "drive.mount('/content/drive')"
      ],
      "execution_count": 3,
      "outputs": [
        {
          "output_type": "stream",
          "text": [
            "Mounted at /content/drive\n"
          ],
          "name": "stdout"
        }
      ]
    },
    {
      "cell_type": "code",
      "metadata": {
        "colab": {
          "base_uri": "https://localhost:8080/",
          "height": 204
        },
        "id": "atkbPlmz2ONL",
        "outputId": "a86167e9-2eea-43c1-af47-8bf1bcd863f8"
      },
      "source": [
        "df= pd.read_excel('/content/drive/My Drive/dataset/Skripsi/data_v3.xlsx') \n",
        "df.head()"
      ],
      "execution_count": 4,
      "outputs": [
        {
          "output_type": "execute_result",
          "data": {
            "text/html": [
              "<div>\n",
              "<style scoped>\n",
              "    .dataframe tbody tr th:only-of-type {\n",
              "        vertical-align: middle;\n",
              "    }\n",
              "\n",
              "    .dataframe tbody tr th {\n",
              "        vertical-align: top;\n",
              "    }\n",
              "\n",
              "    .dataframe thead th {\n",
              "        text-align: right;\n",
              "    }\n",
              "</style>\n",
              "<table border=\"1\" class=\"dataframe\">\n",
              "  <thead>\n",
              "    <tr style=\"text-align: right;\">\n",
              "      <th></th>\n",
              "      <th>Tweet</th>\n",
              "      <th>Anotator 1 (Trifebi Shina)</th>\n",
              "      <th>Anotator 2 (Mujaddid)</th>\n",
              "      <th>Anotator 3 (Harris Ishaq)</th>\n",
              "      <th>Sentimen Final</th>\n",
              "    </tr>\n",
              "  </thead>\n",
              "  <tbody>\n",
              "    <tr>\n",
              "      <th>0</th>\n",
              "      <td>Alat penjajah sekarang adalah UU cipta kerja &gt;...</td>\n",
              "      <td>Negatif</td>\n",
              "      <td>0</td>\n",
              "      <td>Negatif</td>\n",
              "      <td>Negatif</td>\n",
              "    </tr>\n",
              "    <tr>\n",
              "      <th>1</th>\n",
              "      <td>Aroma kepentingan asing dan pemilik modal sang...</td>\n",
              "      <td>Negatif</td>\n",
              "      <td>0</td>\n",
              "      <td>Negatif</td>\n",
              "      <td>Negatif</td>\n",
              "    </tr>\n",
              "    <tr>\n",
              "      <th>2</th>\n",
              "      <td>Serentak di seluruh Nusantara, buruh menolak U...</td>\n",
              "      <td>Negatif</td>\n",
              "      <td>0</td>\n",
              "      <td>Negatif</td>\n",
              "      <td>Negatif</td>\n",
              "    </tr>\n",
              "    <tr>\n",
              "      <th>3</th>\n",
              "      <td>Menjajah bangsa sendiri, usulan pemerintah zal...</td>\n",
              "      <td>Negatif</td>\n",
              "      <td>0</td>\n",
              "      <td>Negatif</td>\n",
              "      <td>Negatif</td>\n",
              "    </tr>\n",
              "    <tr>\n",
              "      <th>4</th>\n",
              "      <td>Negeri ini belum merdeka ..uu perbudakan lahir...</td>\n",
              "      <td>Negatif</td>\n",
              "      <td>0</td>\n",
              "      <td>Negatif</td>\n",
              "      <td>Negatif</td>\n",
              "    </tr>\n",
              "  </tbody>\n",
              "</table>\n",
              "</div>"
            ],
            "text/plain": [
              "                                               Tweet  ... Sentimen Final\n",
              "0  Alat penjajah sekarang adalah UU cipta kerja >...  ...        Negatif\n",
              "1  Aroma kepentingan asing dan pemilik modal sang...  ...        Negatif\n",
              "2  Serentak di seluruh Nusantara, buruh menolak U...  ...        Negatif\n",
              "3  Menjajah bangsa sendiri, usulan pemerintah zal...  ...        Negatif\n",
              "4  Negeri ini belum merdeka ..uu perbudakan lahir...  ...        Negatif\n",
              "\n",
              "[5 rows x 5 columns]"
            ]
          },
          "metadata": {
            "tags": []
          },
          "execution_count": 4
        }
      ]
    },
    {
      "cell_type": "code",
      "metadata": {
        "colab": {
          "base_uri": "https://localhost:8080/",
          "height": 204
        },
        "id": "oz_cR5cGTJNz",
        "outputId": "160b7427-1c41-49ca-bccb-f782f4c595ab"
      },
      "source": [
        "df.drop(['Anotator 1 (Trifebi Shina)', 'Anotator 2 (Mujaddid)', 'Anotator 3 (Harris Ishaq)'], axis=1, inplace=True)\n",
        "df.rename(columns = {'Sentimen Final':'Sentimen'}, inplace = True)\n",
        "df.head()"
      ],
      "execution_count": 5,
      "outputs": [
        {
          "output_type": "execute_result",
          "data": {
            "text/html": [
              "<div>\n",
              "<style scoped>\n",
              "    .dataframe tbody tr th:only-of-type {\n",
              "        vertical-align: middle;\n",
              "    }\n",
              "\n",
              "    .dataframe tbody tr th {\n",
              "        vertical-align: top;\n",
              "    }\n",
              "\n",
              "    .dataframe thead th {\n",
              "        text-align: right;\n",
              "    }\n",
              "</style>\n",
              "<table border=\"1\" class=\"dataframe\">\n",
              "  <thead>\n",
              "    <tr style=\"text-align: right;\">\n",
              "      <th></th>\n",
              "      <th>Tweet</th>\n",
              "      <th>Sentimen</th>\n",
              "    </tr>\n",
              "  </thead>\n",
              "  <tbody>\n",
              "    <tr>\n",
              "      <th>0</th>\n",
              "      <td>Alat penjajah sekarang adalah UU cipta kerja &gt;...</td>\n",
              "      <td>Negatif</td>\n",
              "    </tr>\n",
              "    <tr>\n",
              "      <th>1</th>\n",
              "      <td>Aroma kepentingan asing dan pemilik modal sang...</td>\n",
              "      <td>Negatif</td>\n",
              "    </tr>\n",
              "    <tr>\n",
              "      <th>2</th>\n",
              "      <td>Serentak di seluruh Nusantara, buruh menolak U...</td>\n",
              "      <td>Negatif</td>\n",
              "    </tr>\n",
              "    <tr>\n",
              "      <th>3</th>\n",
              "      <td>Menjajah bangsa sendiri, usulan pemerintah zal...</td>\n",
              "      <td>Negatif</td>\n",
              "    </tr>\n",
              "    <tr>\n",
              "      <th>4</th>\n",
              "      <td>Negeri ini belum merdeka ..uu perbudakan lahir...</td>\n",
              "      <td>Negatif</td>\n",
              "    </tr>\n",
              "  </tbody>\n",
              "</table>\n",
              "</div>"
            ],
            "text/plain": [
              "                                               Tweet Sentimen\n",
              "0  Alat penjajah sekarang adalah UU cipta kerja >...  Negatif\n",
              "1  Aroma kepentingan asing dan pemilik modal sang...  Negatif\n",
              "2  Serentak di seluruh Nusantara, buruh menolak U...  Negatif\n",
              "3  Menjajah bangsa sendiri, usulan pemerintah zal...  Negatif\n",
              "4  Negeri ini belum merdeka ..uu perbudakan lahir...  Negatif"
            ]
          },
          "metadata": {
            "tags": []
          },
          "execution_count": 5
        }
      ]
    },
    {
      "cell_type": "code",
      "metadata": {
        "colab": {
          "base_uri": "https://localhost:8080/"
        },
        "id": "1Zn7lvjl2QOI",
        "outputId": "711d63fb-f4e2-4262-9079-7819eb4948af"
      },
      "source": [
        "df.isnull().sum()"
      ],
      "execution_count": 6,
      "outputs": [
        {
          "output_type": "execute_result",
          "data": {
            "text/plain": [
              "Tweet       0\n",
              "Sentimen    0\n",
              "dtype: int64"
            ]
          },
          "metadata": {
            "tags": []
          },
          "execution_count": 6
        }
      ]
    },
    {
      "cell_type": "code",
      "metadata": {
        "colab": {
          "base_uri": "https://localhost:8080/"
        },
        "id": "8hQ0WiLm2STh",
        "outputId": "9399049c-f102-4f90-e4c9-ea39825b174d"
      },
      "source": [
        "df.shape"
      ],
      "execution_count": 7,
      "outputs": [
        {
          "output_type": "execute_result",
          "data": {
            "text/plain": [
              "(1000, 2)"
            ]
          },
          "metadata": {
            "tags": []
          },
          "execution_count": 7
        }
      ]
    },
    {
      "cell_type": "markdown",
      "metadata": {
        "id": "KDuLDhEg2U16"
      },
      "source": [
        "# Preprocessing"
      ]
    },
    {
      "cell_type": "code",
      "metadata": {
        "colab": {
          "base_uri": "https://localhost:8080/"
        },
        "id": "H_kK-mFX2XcB",
        "outputId": "7cb20f9b-ca4f-484e-d770-017d8327ef02"
      },
      "source": [
        "pip install Sastrawi"
      ],
      "execution_count": 8,
      "outputs": [
        {
          "output_type": "stream",
          "text": [
            "Collecting Sastrawi\n",
            "\u001b[?25l  Downloading https://files.pythonhosted.org/packages/6f/4b/bab676953da3103003730b8fcdfadbdd20f333d4add10af949dd5c51e6ed/Sastrawi-1.0.1-py2.py3-none-any.whl (209kB)\n",
            "\r\u001b[K     |█▋                              | 10kB 16.4MB/s eta 0:00:01\r\u001b[K     |███▏                            | 20kB 21.3MB/s eta 0:00:01\r\u001b[K     |████▊                           | 30kB 19.6MB/s eta 0:00:01\r\u001b[K     |██████▎                         | 40kB 16.2MB/s eta 0:00:01\r\u001b[K     |███████▉                        | 51kB 15.9MB/s eta 0:00:01\r\u001b[K     |█████████▍                      | 61kB 13.9MB/s eta 0:00:01\r\u001b[K     |███████████                     | 71kB 13.2MB/s eta 0:00:01\r\u001b[K     |████████████▌                   | 81kB 14.2MB/s eta 0:00:01\r\u001b[K     |██████████████                  | 92kB 14.3MB/s eta 0:00:01\r\u001b[K     |███████████████▋                | 102kB 14.6MB/s eta 0:00:01\r\u001b[K     |█████████████████▏              | 112kB 14.6MB/s eta 0:00:01\r\u001b[K     |██████████████████▊             | 122kB 14.6MB/s eta 0:00:01\r\u001b[K     |████████████████████▎           | 133kB 14.6MB/s eta 0:00:01\r\u001b[K     |█████████████████████▉          | 143kB 14.6MB/s eta 0:00:01\r\u001b[K     |███████████████████████▍        | 153kB 14.6MB/s eta 0:00:01\r\u001b[K     |█████████████████████████       | 163kB 14.6MB/s eta 0:00:01\r\u001b[K     |██████████████████████████▋     | 174kB 14.6MB/s eta 0:00:01\r\u001b[K     |████████████████████████████▏   | 184kB 14.6MB/s eta 0:00:01\r\u001b[K     |█████████████████████████████▊  | 194kB 14.6MB/s eta 0:00:01\r\u001b[K     |███████████████████████████████▎| 204kB 14.6MB/s eta 0:00:01\r\u001b[K     |████████████████████████████████| 215kB 14.6MB/s \n",
            "\u001b[?25hInstalling collected packages: Sastrawi\n",
            "Successfully installed Sastrawi-1.0.1\n"
          ],
          "name": "stdout"
        }
      ]
    },
    {
      "cell_type": "code",
      "metadata": {
        "colab": {
          "base_uri": "https://localhost:8080/"
        },
        "id": "vXlleWcY2ZXT",
        "outputId": "b279c95a-b4b6-409f-fd95-ee9014893993"
      },
      "source": [
        "#Import library untuk proses preprocessing\n",
        "pd.set_option('display.max_colwidth', None)\n",
        "import re\n",
        "import nltk\n",
        "nltk.download('stopwords')\n",
        "nltk.download('punkt')\n",
        "from nltk.corpus import stopwords\n",
        "from Sastrawi.Stemmer.StemmerFactory import StemmerFactory\n",
        "from nltk.tokenize import word_tokenize "
      ],
      "execution_count": 9,
      "outputs": [
        {
          "output_type": "stream",
          "text": [
            "[nltk_data] Downloading package stopwords to /root/nltk_data...\n",
            "[nltk_data]   Unzipping corpora/stopwords.zip.\n",
            "[nltk_data] Downloading package punkt to /root/nltk_data...\n",
            "[nltk_data]   Unzipping tokenizers/punkt.zip.\n"
          ],
          "name": "stdout"
        }
      ]
    },
    {
      "cell_type": "code",
      "metadata": {
        "colab": {
          "base_uri": "https://localhost:8080/",
          "height": 238
        },
        "id": "qLNtUY8X2ona",
        "outputId": "ff123b66-5152-4f6f-fdb1-22cfe5205053"
      },
      "source": [
        "#Case folding\n",
        "df['Tweet'] = df['Tweet'].str.lower()\n",
        "df.head(5)"
      ],
      "execution_count": 10,
      "outputs": [
        {
          "output_type": "execute_result",
          "data": {
            "text/html": [
              "<div>\n",
              "<style scoped>\n",
              "    .dataframe tbody tr th:only-of-type {\n",
              "        vertical-align: middle;\n",
              "    }\n",
              "\n",
              "    .dataframe tbody tr th {\n",
              "        vertical-align: top;\n",
              "    }\n",
              "\n",
              "    .dataframe thead th {\n",
              "        text-align: right;\n",
              "    }\n",
              "</style>\n",
              "<table border=\"1\" class=\"dataframe\">\n",
              "  <thead>\n",
              "    <tr style=\"text-align: right;\">\n",
              "      <th></th>\n",
              "      <th>Tweet</th>\n",
              "      <th>Sentimen</th>\n",
              "    </tr>\n",
              "  </thead>\n",
              "  <tbody>\n",
              "    <tr>\n",
              "      <th>0</th>\n",
              "      <td>alat penjajah sekarang adalah uu cipta kerja &gt;&gt; #buruhmenggugatuuciptakerja &lt;&lt; #tolakuuciptakerja &gt;&gt; pic.twitter.com/wpdhlo3djq</td>\n",
              "      <td>Negatif</td>\n",
              "    </tr>\n",
              "    <tr>\n",
              "      <th>1</th>\n",
              "      <td>aroma kepentingan asing dan pemilik modal sangat terasa dalam uu cipta kerja. tolak uu cipta kerja &gt;&gt; #buruhmenggugatuuciptakerja &lt;&lt; #uuciptakerjaalatpenjajahan#tolakuuciptakerja &gt;&gt; pic.twitter.com/i0p15fg9ba</td>\n",
              "      <td>Negatif</td>\n",
              "    </tr>\n",
              "    <tr>\n",
              "      <th>2</th>\n",
              "      <td>serentak di seluruh nusantara, buruh menolak uu yang baru di sahkan yang meresahkan pekerja &gt;&gt; #buruhmenggugatuuciptakerja &lt;&lt; #tolakuuciptakerja &gt;&gt; pic.twitter.com/whlraa20ck</td>\n",
              "      <td>Negatif</td>\n",
              "    </tr>\n",
              "    <tr>\n",
              "      <th>3</th>\n",
              "      <td>menjajah bangsa sendiri, usulan pemerintah zalim dan disetujui dewan pengkhianat rakyat &gt;&gt; #buruhmenggugatuuciptakerja &lt;&lt; #tolakuuciptakerja &gt;&gt; pic.twitter.com/zqlu4ej483</td>\n",
              "      <td>Negatif</td>\n",
              "    </tr>\n",
              "    <tr>\n",
              "      <th>4</th>\n",
              "      <td>negeri ini belum merdeka ..uu perbudakan lahir kembali oleh pemerintah zalim &gt;&gt; #buruhmenggugatuuciptakerja &lt;&lt; #tolakuuciptakerja &gt;&gt; pic.twitter.com/zgcixpzqdh</td>\n",
              "      <td>Negatif</td>\n",
              "    </tr>\n",
              "  </tbody>\n",
              "</table>\n",
              "</div>"
            ],
            "text/plain": [
              "                                                                                                                                                                                                              Tweet Sentimen\n",
              "0                                                                                   alat penjajah sekarang adalah uu cipta kerja >> #buruhmenggugatuuciptakerja << #tolakuuciptakerja >> pic.twitter.com/wpdhlo3djq  Negatif\n",
              "1  aroma kepentingan asing dan pemilik modal sangat terasa dalam uu cipta kerja. tolak uu cipta kerja >> #buruhmenggugatuuciptakerja << #uuciptakerjaalatpenjajahan#tolakuuciptakerja >> pic.twitter.com/i0p15fg9ba  Negatif\n",
              "2                                    serentak di seluruh nusantara, buruh menolak uu yang baru di sahkan yang meresahkan pekerja >> #buruhmenggugatuuciptakerja << #tolakuuciptakerja >> pic.twitter.com/whlraa20ck  Negatif\n",
              "3                                        menjajah bangsa sendiri, usulan pemerintah zalim dan disetujui dewan pengkhianat rakyat >> #buruhmenggugatuuciptakerja << #tolakuuciptakerja >> pic.twitter.com/zqlu4ej483  Negatif\n",
              "4                                                   negeri ini belum merdeka ..uu perbudakan lahir kembali oleh pemerintah zalim >> #buruhmenggugatuuciptakerja << #tolakuuciptakerja >> pic.twitter.com/zgcixpzqdh  Negatif"
            ]
          },
          "metadata": {
            "tags": []
          },
          "execution_count": 10
        }
      ]
    },
    {
      "cell_type": "code",
      "metadata": {
        "id": "Q3YYdb7z2rWH"
      },
      "source": [
        "#Cleansing\n",
        "def cleansing(docs):\n",
        "  tweet = re.sub(r'(http\\S+|https\\S+|twitter.com\\S+|pic.twitter\\S+)', '', docs)\n",
        "  clean_tweet = tweet.replace('\\n', '')\n",
        "  clean_tweet = re.sub('(@[A-Za-z0-9]+)|(#[A-Za-z0-9]+)|([^A-Za-z \\t])|(\\w+:\\/\\/\\S+)','', clean_tweet)\n",
        "  return clean_tweet"
      ],
      "execution_count": 11,
      "outputs": []
    },
    {
      "cell_type": "code",
      "metadata": {
        "colab": {
          "base_uri": "https://localhost:8080/",
          "height": 204
        },
        "id": "Xyh0ib3i2t9P",
        "outputId": "842ac760-6594-4be0-fd46-caeb0c8a553b"
      },
      "source": [
        "df['Tweet'] = df['Tweet'].apply(cleansing)\n",
        "df.head()"
      ],
      "execution_count": 12,
      "outputs": [
        {
          "output_type": "execute_result",
          "data": {
            "text/html": [
              "<div>\n",
              "<style scoped>\n",
              "    .dataframe tbody tr th:only-of-type {\n",
              "        vertical-align: middle;\n",
              "    }\n",
              "\n",
              "    .dataframe tbody tr th {\n",
              "        vertical-align: top;\n",
              "    }\n",
              "\n",
              "    .dataframe thead th {\n",
              "        text-align: right;\n",
              "    }\n",
              "</style>\n",
              "<table border=\"1\" class=\"dataframe\">\n",
              "  <thead>\n",
              "    <tr style=\"text-align: right;\">\n",
              "      <th></th>\n",
              "      <th>Tweet</th>\n",
              "      <th>Sentimen</th>\n",
              "    </tr>\n",
              "  </thead>\n",
              "  <tbody>\n",
              "    <tr>\n",
              "      <th>0</th>\n",
              "      <td>alat penjajah sekarang adalah uu cipta kerja</td>\n",
              "      <td>Negatif</td>\n",
              "    </tr>\n",
              "    <tr>\n",
              "      <th>1</th>\n",
              "      <td>aroma kepentingan asing dan pemilik modal sangat terasa dalam uu cipta kerja tolak uu cipta kerja</td>\n",
              "      <td>Negatif</td>\n",
              "    </tr>\n",
              "    <tr>\n",
              "      <th>2</th>\n",
              "      <td>serentak di seluruh nusantara buruh menolak uu yang baru di sahkan yang meresahkan pekerja</td>\n",
              "      <td>Negatif</td>\n",
              "    </tr>\n",
              "    <tr>\n",
              "      <th>3</th>\n",
              "      <td>menjajah bangsa sendiri usulan pemerintah zalim dan disetujui dewan pengkhianat rakyat</td>\n",
              "      <td>Negatif</td>\n",
              "    </tr>\n",
              "    <tr>\n",
              "      <th>4</th>\n",
              "      <td>negeri ini belum merdeka uu perbudakan lahir kembali oleh pemerintah zalim</td>\n",
              "      <td>Negatif</td>\n",
              "    </tr>\n",
              "  </tbody>\n",
              "</table>\n",
              "</div>"
            ],
            "text/plain": [
              "                                                                                                     Tweet Sentimen\n",
              "0                                                       alat penjajah sekarang adalah uu cipta kerja        Negatif\n",
              "1  aroma kepentingan asing dan pemilik modal sangat terasa dalam uu cipta kerja tolak uu cipta kerja        Negatif\n",
              "2         serentak di seluruh nusantara buruh menolak uu yang baru di sahkan yang meresahkan pekerja        Negatif\n",
              "3             menjajah bangsa sendiri usulan pemerintah zalim dan disetujui dewan pengkhianat rakyat        Negatif\n",
              "4                         negeri ini belum merdeka uu perbudakan lahir kembali oleh pemerintah zalim        Negatif"
            ]
          },
          "metadata": {
            "tags": []
          },
          "execution_count": 12
        }
      ]
    },
    {
      "cell_type": "code",
      "metadata": {
        "id": "zZP5ayKD2v8q"
      },
      "source": [
        "#Tokenization\n",
        "def tokenize(docs):\n",
        "    return word_tokenize(docs)"
      ],
      "execution_count": 13,
      "outputs": []
    },
    {
      "cell_type": "code",
      "metadata": {
        "colab": {
          "base_uri": "https://localhost:8080/",
          "height": 255
        },
        "id": "yYetxmr120xx",
        "outputId": "4df814f3-e016-490d-bf31-a6509f8c7b58"
      },
      "source": [
        "df['Token Tweet'] = df['Tweet'].apply(tokenize)\n",
        "df.head()"
      ],
      "execution_count": 14,
      "outputs": [
        {
          "output_type": "execute_result",
          "data": {
            "text/html": [
              "<div>\n",
              "<style scoped>\n",
              "    .dataframe tbody tr th:only-of-type {\n",
              "        vertical-align: middle;\n",
              "    }\n",
              "\n",
              "    .dataframe tbody tr th {\n",
              "        vertical-align: top;\n",
              "    }\n",
              "\n",
              "    .dataframe thead th {\n",
              "        text-align: right;\n",
              "    }\n",
              "</style>\n",
              "<table border=\"1\" class=\"dataframe\">\n",
              "  <thead>\n",
              "    <tr style=\"text-align: right;\">\n",
              "      <th></th>\n",
              "      <th>Tweet</th>\n",
              "      <th>Sentimen</th>\n",
              "      <th>Token Tweet</th>\n",
              "    </tr>\n",
              "  </thead>\n",
              "  <tbody>\n",
              "    <tr>\n",
              "      <th>0</th>\n",
              "      <td>alat penjajah sekarang adalah uu cipta kerja</td>\n",
              "      <td>Negatif</td>\n",
              "      <td>[alat, penjajah, sekarang, adalah, uu, cipta, kerja]</td>\n",
              "    </tr>\n",
              "    <tr>\n",
              "      <th>1</th>\n",
              "      <td>aroma kepentingan asing dan pemilik modal sangat terasa dalam uu cipta kerja tolak uu cipta kerja</td>\n",
              "      <td>Negatif</td>\n",
              "      <td>[aroma, kepentingan, asing, dan, pemilik, modal, sangat, terasa, dalam, uu, cipta, kerja, tolak, uu, cipta, kerja]</td>\n",
              "    </tr>\n",
              "    <tr>\n",
              "      <th>2</th>\n",
              "      <td>serentak di seluruh nusantara buruh menolak uu yang baru di sahkan yang meresahkan pekerja</td>\n",
              "      <td>Negatif</td>\n",
              "      <td>[serentak, di, seluruh, nusantara, buruh, menolak, uu, yang, baru, di, sahkan, yang, meresahkan, pekerja]</td>\n",
              "    </tr>\n",
              "    <tr>\n",
              "      <th>3</th>\n",
              "      <td>menjajah bangsa sendiri usulan pemerintah zalim dan disetujui dewan pengkhianat rakyat</td>\n",
              "      <td>Negatif</td>\n",
              "      <td>[menjajah, bangsa, sendiri, usulan, pemerintah, zalim, dan, disetujui, dewan, pengkhianat, rakyat]</td>\n",
              "    </tr>\n",
              "    <tr>\n",
              "      <th>4</th>\n",
              "      <td>negeri ini belum merdeka uu perbudakan lahir kembali oleh pemerintah zalim</td>\n",
              "      <td>Negatif</td>\n",
              "      <td>[negeri, ini, belum, merdeka, uu, perbudakan, lahir, kembali, oleh, pemerintah, zalim]</td>\n",
              "    </tr>\n",
              "  </tbody>\n",
              "</table>\n",
              "</div>"
            ],
            "text/plain": [
              "                                                                                                     Tweet  ...                                                                                                         Token Tweet\n",
              "0                                                       alat penjajah sekarang adalah uu cipta kerja        ...                                                                [alat, penjajah, sekarang, adalah, uu, cipta, kerja]\n",
              "1  aroma kepentingan asing dan pemilik modal sangat terasa dalam uu cipta kerja tolak uu cipta kerja        ...  [aroma, kepentingan, asing, dan, pemilik, modal, sangat, terasa, dalam, uu, cipta, kerja, tolak, uu, cipta, kerja]\n",
              "2         serentak di seluruh nusantara buruh menolak uu yang baru di sahkan yang meresahkan pekerja        ...           [serentak, di, seluruh, nusantara, buruh, menolak, uu, yang, baru, di, sahkan, yang, meresahkan, pekerja]\n",
              "3             menjajah bangsa sendiri usulan pemerintah zalim dan disetujui dewan pengkhianat rakyat        ...                  [menjajah, bangsa, sendiri, usulan, pemerintah, zalim, dan, disetujui, dewan, pengkhianat, rakyat]\n",
              "4                         negeri ini belum merdeka uu perbudakan lahir kembali oleh pemerintah zalim        ...                              [negeri, ini, belum, merdeka, uu, perbudakan, lahir, kembali, oleh, pemerintah, zalim]\n",
              "\n",
              "[5 rows x 3 columns]"
            ]
          },
          "metadata": {
            "tags": []
          },
          "execution_count": 14
        }
      ]
    },
    {
      "cell_type": "code",
      "metadata": {
        "id": "oTTDTIiJ220z"
      },
      "source": [
        "#Stopword removal\n",
        "def stop_removal(docs):\n",
        "  words = stopwords.words('indonesian')\n",
        "  words.extend(['amp', 'sih', 'nih', 'nya', 'n', 'nn', 't', 'hehe', 'nan', 'loh', '&amp']) #Nanti ditambahin juga yang remove itu, karena ada beberapa kata penting dlm list stopword\n",
        "  words.remove('tidak')\n",
        "  words = set(words)\n",
        "  return [word for word in docs if word not in words]"
      ],
      "execution_count": 15,
      "outputs": []
    },
    {
      "cell_type": "code",
      "metadata": {
        "colab": {
          "base_uri": "https://localhost:8080/",
          "height": 238
        },
        "id": "UR4EsG3127Ky",
        "outputId": "8f1fa40e-14d4-4e3a-96af-a96dd93b2d2f"
      },
      "source": [
        "df['Token Tweet'] = df['Token Tweet'].apply(stop_removal)\n",
        "df.head()"
      ],
      "execution_count": 16,
      "outputs": [
        {
          "output_type": "execute_result",
          "data": {
            "text/html": [
              "<div>\n",
              "<style scoped>\n",
              "    .dataframe tbody tr th:only-of-type {\n",
              "        vertical-align: middle;\n",
              "    }\n",
              "\n",
              "    .dataframe tbody tr th {\n",
              "        vertical-align: top;\n",
              "    }\n",
              "\n",
              "    .dataframe thead th {\n",
              "        text-align: right;\n",
              "    }\n",
              "</style>\n",
              "<table border=\"1\" class=\"dataframe\">\n",
              "  <thead>\n",
              "    <tr style=\"text-align: right;\">\n",
              "      <th></th>\n",
              "      <th>Tweet</th>\n",
              "      <th>Sentimen</th>\n",
              "      <th>Token Tweet</th>\n",
              "    </tr>\n",
              "  </thead>\n",
              "  <tbody>\n",
              "    <tr>\n",
              "      <th>0</th>\n",
              "      <td>alat penjajah sekarang adalah uu cipta kerja</td>\n",
              "      <td>Negatif</td>\n",
              "      <td>[alat, penjajah, uu, cipta, kerja]</td>\n",
              "    </tr>\n",
              "    <tr>\n",
              "      <th>1</th>\n",
              "      <td>aroma kepentingan asing dan pemilik modal sangat terasa dalam uu cipta kerja tolak uu cipta kerja</td>\n",
              "      <td>Negatif</td>\n",
              "      <td>[aroma, kepentingan, asing, pemilik, modal, uu, cipta, kerja, tolak, uu, cipta, kerja]</td>\n",
              "    </tr>\n",
              "    <tr>\n",
              "      <th>2</th>\n",
              "      <td>serentak di seluruh nusantara buruh menolak uu yang baru di sahkan yang meresahkan pekerja</td>\n",
              "      <td>Negatif</td>\n",
              "      <td>[serentak, nusantara, buruh, menolak, uu, sahkan, meresahkan, pekerja]</td>\n",
              "    </tr>\n",
              "    <tr>\n",
              "      <th>3</th>\n",
              "      <td>menjajah bangsa sendiri usulan pemerintah zalim dan disetujui dewan pengkhianat rakyat</td>\n",
              "      <td>Negatif</td>\n",
              "      <td>[menjajah, bangsa, usulan, pemerintah, zalim, disetujui, dewan, pengkhianat, rakyat]</td>\n",
              "    </tr>\n",
              "    <tr>\n",
              "      <th>4</th>\n",
              "      <td>negeri ini belum merdeka uu perbudakan lahir kembali oleh pemerintah zalim</td>\n",
              "      <td>Negatif</td>\n",
              "      <td>[negeri, merdeka, uu, perbudakan, lahir, pemerintah, zalim]</td>\n",
              "    </tr>\n",
              "  </tbody>\n",
              "</table>\n",
              "</div>"
            ],
            "text/plain": [
              "                                                                                                     Tweet  ...                                                                             Token Tweet\n",
              "0                                                       alat penjajah sekarang adalah uu cipta kerja        ...                                                      [alat, penjajah, uu, cipta, kerja]\n",
              "1  aroma kepentingan asing dan pemilik modal sangat terasa dalam uu cipta kerja tolak uu cipta kerja        ...  [aroma, kepentingan, asing, pemilik, modal, uu, cipta, kerja, tolak, uu, cipta, kerja]\n",
              "2         serentak di seluruh nusantara buruh menolak uu yang baru di sahkan yang meresahkan pekerja        ...                  [serentak, nusantara, buruh, menolak, uu, sahkan, meresahkan, pekerja]\n",
              "3             menjajah bangsa sendiri usulan pemerintah zalim dan disetujui dewan pengkhianat rakyat        ...    [menjajah, bangsa, usulan, pemerintah, zalim, disetujui, dewan, pengkhianat, rakyat]\n",
              "4                         negeri ini belum merdeka uu perbudakan lahir kembali oleh pemerintah zalim        ...                             [negeri, merdeka, uu, perbudakan, lahir, pemerintah, zalim]\n",
              "\n",
              "[5 rows x 3 columns]"
            ]
          },
          "metadata": {
            "tags": []
          },
          "execution_count": 16
        }
      ]
    },
    {
      "cell_type": "code",
      "metadata": {
        "id": "9BF_ibmY29Xc"
      },
      "source": [
        "#Stemming\n",
        "factory = StemmerFactory()\n",
        "stemmer = factory.create_stemmer()\n",
        "\n",
        "def stemming(docs):\n",
        "  return [stemmer.stem(word) for word in docs]"
      ],
      "execution_count": 17,
      "outputs": []
    },
    {
      "cell_type": "code",
      "metadata": {
        "colab": {
          "base_uri": "https://localhost:8080/",
          "height": 204
        },
        "id": "sywi7j0f2_go",
        "outputId": "4f7b2316-e69c-45e8-ef97-8c8a0eafa269"
      },
      "source": [
        "df['Token Tweet'] = df['Token Tweet'].apply(stemming)\n",
        "df.head()"
      ],
      "execution_count": 18,
      "outputs": [
        {
          "output_type": "execute_result",
          "data": {
            "text/html": [
              "<div>\n",
              "<style scoped>\n",
              "    .dataframe tbody tr th:only-of-type {\n",
              "        vertical-align: middle;\n",
              "    }\n",
              "\n",
              "    .dataframe tbody tr th {\n",
              "        vertical-align: top;\n",
              "    }\n",
              "\n",
              "    .dataframe thead th {\n",
              "        text-align: right;\n",
              "    }\n",
              "</style>\n",
              "<table border=\"1\" class=\"dataframe\">\n",
              "  <thead>\n",
              "    <tr style=\"text-align: right;\">\n",
              "      <th></th>\n",
              "      <th>Tweet</th>\n",
              "      <th>Sentimen</th>\n",
              "      <th>Token Tweet</th>\n",
              "    </tr>\n",
              "  </thead>\n",
              "  <tbody>\n",
              "    <tr>\n",
              "      <th>0</th>\n",
              "      <td>alat penjajah sekarang adalah uu cipta kerja</td>\n",
              "      <td>Negatif</td>\n",
              "      <td>[alat, jajah, uu, cipta, kerja]</td>\n",
              "    </tr>\n",
              "    <tr>\n",
              "      <th>1</th>\n",
              "      <td>aroma kepentingan asing dan pemilik modal sangat terasa dalam uu cipta kerja tolak uu cipta kerja</td>\n",
              "      <td>Negatif</td>\n",
              "      <td>[aroma, penting, asing, milik, modal, uu, cipta, kerja, tolak, uu, cipta, kerja]</td>\n",
              "    </tr>\n",
              "    <tr>\n",
              "      <th>2</th>\n",
              "      <td>serentak di seluruh nusantara buruh menolak uu yang baru di sahkan yang meresahkan pekerja</td>\n",
              "      <td>Negatif</td>\n",
              "      <td>[serentak, nusantara, buruh, tolak, uu, sahkan, resah, kerja]</td>\n",
              "    </tr>\n",
              "    <tr>\n",
              "      <th>3</th>\n",
              "      <td>menjajah bangsa sendiri usulan pemerintah zalim dan disetujui dewan pengkhianat rakyat</td>\n",
              "      <td>Negatif</td>\n",
              "      <td>[jajah, bangsa, usul, perintah, zalim, tuju, dewan, khianat, rakyat]</td>\n",
              "    </tr>\n",
              "    <tr>\n",
              "      <th>4</th>\n",
              "      <td>negeri ini belum merdeka uu perbudakan lahir kembali oleh pemerintah zalim</td>\n",
              "      <td>Negatif</td>\n",
              "      <td>[negeri, merdeka, uu, budak, lahir, perintah, zalim]</td>\n",
              "    </tr>\n",
              "  </tbody>\n",
              "</table>\n",
              "</div>"
            ],
            "text/plain": [
              "                                                                                                     Tweet  ...                                                                       Token Tweet\n",
              "0                                                       alat penjajah sekarang adalah uu cipta kerja        ...                                                   [alat, jajah, uu, cipta, kerja]\n",
              "1  aroma kepentingan asing dan pemilik modal sangat terasa dalam uu cipta kerja tolak uu cipta kerja        ...  [aroma, penting, asing, milik, modal, uu, cipta, kerja, tolak, uu, cipta, kerja]\n",
              "2         serentak di seluruh nusantara buruh menolak uu yang baru di sahkan yang meresahkan pekerja        ...                     [serentak, nusantara, buruh, tolak, uu, sahkan, resah, kerja]\n",
              "3             menjajah bangsa sendiri usulan pemerintah zalim dan disetujui dewan pengkhianat rakyat        ...              [jajah, bangsa, usul, perintah, zalim, tuju, dewan, khianat, rakyat]\n",
              "4                         negeri ini belum merdeka uu perbudakan lahir kembali oleh pemerintah zalim        ...                              [negeri, merdeka, uu, budak, lahir, perintah, zalim]\n",
              "\n",
              "[5 rows x 3 columns]"
            ]
          },
          "metadata": {
            "tags": []
          },
          "execution_count": 18
        }
      ]
    },
    {
      "cell_type": "markdown",
      "metadata": {
        "id": "w8yX3_xh3DXM"
      },
      "source": [
        "# TF-IDF"
      ]
    },
    {
      "cell_type": "code",
      "metadata": {
        "colab": {
          "base_uri": "https://localhost:8080/",
          "height": 272
        },
        "id": "ae8IQHHh3BfN",
        "outputId": "81ed62e4-29c8-4846-889a-24b400828d8a"
      },
      "source": [
        "def join_text_list(texts):\n",
        "    return ' '.join([text for text in texts])\n",
        "df[\"Final Tweet\"] = df[\"Token Tweet\"].apply(join_text_list)\n",
        "df.head()"
      ],
      "execution_count": 19,
      "outputs": [
        {
          "output_type": "execute_result",
          "data": {
            "text/html": [
              "<div>\n",
              "<style scoped>\n",
              "    .dataframe tbody tr th:only-of-type {\n",
              "        vertical-align: middle;\n",
              "    }\n",
              "\n",
              "    .dataframe tbody tr th {\n",
              "        vertical-align: top;\n",
              "    }\n",
              "\n",
              "    .dataframe thead th {\n",
              "        text-align: right;\n",
              "    }\n",
              "</style>\n",
              "<table border=\"1\" class=\"dataframe\">\n",
              "  <thead>\n",
              "    <tr style=\"text-align: right;\">\n",
              "      <th></th>\n",
              "      <th>Tweet</th>\n",
              "      <th>Sentimen</th>\n",
              "      <th>Token Tweet</th>\n",
              "      <th>Final Tweet</th>\n",
              "    </tr>\n",
              "  </thead>\n",
              "  <tbody>\n",
              "    <tr>\n",
              "      <th>0</th>\n",
              "      <td>alat penjajah sekarang adalah uu cipta kerja</td>\n",
              "      <td>Negatif</td>\n",
              "      <td>[alat, jajah, uu, cipta, kerja]</td>\n",
              "      <td>alat jajah uu cipta kerja</td>\n",
              "    </tr>\n",
              "    <tr>\n",
              "      <th>1</th>\n",
              "      <td>aroma kepentingan asing dan pemilik modal sangat terasa dalam uu cipta kerja tolak uu cipta kerja</td>\n",
              "      <td>Negatif</td>\n",
              "      <td>[aroma, penting, asing, milik, modal, uu, cipta, kerja, tolak, uu, cipta, kerja]</td>\n",
              "      <td>aroma penting asing milik modal uu cipta kerja tolak uu cipta kerja</td>\n",
              "    </tr>\n",
              "    <tr>\n",
              "      <th>2</th>\n",
              "      <td>serentak di seluruh nusantara buruh menolak uu yang baru di sahkan yang meresahkan pekerja</td>\n",
              "      <td>Negatif</td>\n",
              "      <td>[serentak, nusantara, buruh, tolak, uu, sahkan, resah, kerja]</td>\n",
              "      <td>serentak nusantara buruh tolak uu sahkan resah kerja</td>\n",
              "    </tr>\n",
              "    <tr>\n",
              "      <th>3</th>\n",
              "      <td>menjajah bangsa sendiri usulan pemerintah zalim dan disetujui dewan pengkhianat rakyat</td>\n",
              "      <td>Negatif</td>\n",
              "      <td>[jajah, bangsa, usul, perintah, zalim, tuju, dewan, khianat, rakyat]</td>\n",
              "      <td>jajah bangsa usul perintah zalim tuju dewan khianat rakyat</td>\n",
              "    </tr>\n",
              "    <tr>\n",
              "      <th>4</th>\n",
              "      <td>negeri ini belum merdeka uu perbudakan lahir kembali oleh pemerintah zalim</td>\n",
              "      <td>Negatif</td>\n",
              "      <td>[negeri, merdeka, uu, budak, lahir, perintah, zalim]</td>\n",
              "      <td>negeri merdeka uu budak lahir perintah zalim</td>\n",
              "    </tr>\n",
              "  </tbody>\n",
              "</table>\n",
              "</div>"
            ],
            "text/plain": [
              "                                                                                                     Tweet  ...                                                          Final Tweet\n",
              "0                                                       alat penjajah sekarang adalah uu cipta kerja        ...                                            alat jajah uu cipta kerja\n",
              "1  aroma kepentingan asing dan pemilik modal sangat terasa dalam uu cipta kerja tolak uu cipta kerja        ...  aroma penting asing milik modal uu cipta kerja tolak uu cipta kerja\n",
              "2         serentak di seluruh nusantara buruh menolak uu yang baru di sahkan yang meresahkan pekerja        ...                 serentak nusantara buruh tolak uu sahkan resah kerja\n",
              "3             menjajah bangsa sendiri usulan pemerintah zalim dan disetujui dewan pengkhianat rakyat        ...           jajah bangsa usul perintah zalim tuju dewan khianat rakyat\n",
              "4                         negeri ini belum merdeka uu perbudakan lahir kembali oleh pemerintah zalim        ...                         negeri merdeka uu budak lahir perintah zalim\n",
              "\n",
              "[5 rows x 4 columns]"
            ]
          },
          "metadata": {
            "tags": []
          },
          "execution_count": 19
        }
      ]
    },
    {
      "cell_type": "code",
      "metadata": {
        "id": "rezuiUu-3IRK"
      },
      "source": [
        "from sklearn.feature_extraction.text import TfidfVectorizer \n",
        "\n",
        "tf_idf = TfidfVectorizer(binary=True)\n",
        "tfidf_mat = tf_idf.fit_transform(df[\"Final Tweet\"]).toarray()"
      ],
      "execution_count": 20,
      "outputs": []
    },
    {
      "cell_type": "code",
      "metadata": {
        "colab": {
          "base_uri": "https://localhost:8080/",
          "height": 253
        },
        "id": "52cxyjdO3KqO",
        "outputId": "ff7e0847-b016-42c0-cdf6-960bf8bcffba"
      },
      "source": [
        "tfidf = pd.DataFrame(tfidf_mat, columns=tf_idf.get_feature_names())\n",
        "tfidf.head()"
      ],
      "execution_count": 21,
      "outputs": [
        {
          "output_type": "execute_result",
          "data": {
            "text/html": [
              "<div>\n",
              "<style scoped>\n",
              "    .dataframe tbody tr th:only-of-type {\n",
              "        vertical-align: middle;\n",
              "    }\n",
              "\n",
              "    .dataframe tbody tr th {\n",
              "        vertical-align: top;\n",
              "    }\n",
              "\n",
              "    .dataframe thead th {\n",
              "        text-align: right;\n",
              "    }\n",
              "</style>\n",
              "<table border=\"1\" class=\"dataframe\">\n",
              "  <thead>\n",
              "    <tr style=\"text-align: right;\">\n",
              "      <th></th>\n",
              "      <th>aamiin</th>\n",
              "      <th>abai</th>\n",
              "      <th>abdi</th>\n",
              "      <th>abie</th>\n",
              "      <th>abk</th>\n",
              "      <th>absurd</th>\n",
              "      <th>acu</th>\n",
              "      <th>ada</th>\n",
              "      <th>adab</th>\n",
              "      <th>adart</th>\n",
              "      <th>adat</th>\n",
              "      <th>adek</th>\n",
              "      <th>adidaya</th>\n",
              "      <th>adil</th>\n",
              "      <th>administrasi</th>\n",
              "      <th>adu</th>\n",
              "      <th>agal</th>\n",
              "      <th>agama</th>\n",
              "      <th>agamawan</th>\n",
              "      <th>agenda</th>\n",
              "      <th>agraria</th>\n",
              "      <th>agung</th>\n",
              "      <th>ah</th>\n",
              "      <th>ahli</th>\n",
              "      <th>air</th>\n",
              "      <th>airlangga</th>\n",
              "      <th>aja</th>\n",
              "      <th>ajak</th>\n",
              "      <th>ajar</th>\n",
              "      <th>aju</th>\n",
              "      <th>akademik</th>\n",
              "      <th>akademisi</th>\n",
              "      <th>akal</th>\n",
              "      <th>akan</th>\n",
              "      <th>akhir</th>\n",
              "      <th>akhirat</th>\n",
              "      <th>akhlak</th>\n",
              "      <th>akibat</th>\n",
              "      <th>akomodasi</th>\n",
              "      <th>akselerasi</th>\n",
              "      <th>...</th>\n",
              "      <th>wakil</th>\n",
              "      <th>waktu</th>\n",
              "      <th>walkie</th>\n",
              "      <th>wapres</th>\n",
              "      <th>waras</th>\n",
              "      <th>warga</th>\n",
              "      <th>waris</th>\n",
              "      <th>warna</th>\n",
              "      <th>waspada</th>\n",
              "      <th>well</th>\n",
              "      <th>wenang</th>\n",
              "      <th>widodo</th>\n",
              "      <th>wikipedia</th>\n",
              "      <th>wilayah</th>\n",
              "      <th>wkwk</th>\n",
              "      <th>wna</th>\n",
              "      <th>woi</th>\n",
              "      <th>wow</th>\n",
              "      <th>woy</th>\n",
              "      <th>wuhan</th>\n",
              "      <th>wujud</th>\n",
              "      <th>xcxajc</th>\n",
              "      <th>xfxfxaxa</th>\n",
              "      <th>xfxfxxaexfxfxxan</th>\n",
              "      <th>ya</th>\n",
              "      <th>yah</th>\n",
              "      <th>yakali</th>\n",
              "      <th>yakin</th>\n",
              "      <th>yangg</th>\n",
              "      <th>yes</th>\n",
              "      <th>yg</th>\n",
              "      <th>yng</th>\n",
              "      <th>yra</th>\n",
              "      <th>yth</th>\n",
              "      <th>yuana</th>\n",
              "      <th>yudicial</th>\n",
              "      <th>yuk</th>\n",
              "      <th>zalim</th>\n",
              "      <th>zero</th>\n",
              "      <th>zqn</th>\n",
              "    </tr>\n",
              "  </thead>\n",
              "  <tbody>\n",
              "    <tr>\n",
              "      <th>0</th>\n",
              "      <td>0.0</td>\n",
              "      <td>0.0</td>\n",
              "      <td>0.0</td>\n",
              "      <td>0.0</td>\n",
              "      <td>0.0</td>\n",
              "      <td>0.0</td>\n",
              "      <td>0.0</td>\n",
              "      <td>0.0</td>\n",
              "      <td>0.0</td>\n",
              "      <td>0.0</td>\n",
              "      <td>0.0</td>\n",
              "      <td>0.0</td>\n",
              "      <td>0.0</td>\n",
              "      <td>0.0</td>\n",
              "      <td>0.0</td>\n",
              "      <td>0.0</td>\n",
              "      <td>0.0</td>\n",
              "      <td>0.0</td>\n",
              "      <td>0.0</td>\n",
              "      <td>0.0</td>\n",
              "      <td>0.0</td>\n",
              "      <td>0.0</td>\n",
              "      <td>0.0</td>\n",
              "      <td>0.0</td>\n",
              "      <td>0.0</td>\n",
              "      <td>0.0</td>\n",
              "      <td>0.0</td>\n",
              "      <td>0.0</td>\n",
              "      <td>0.0</td>\n",
              "      <td>0.0</td>\n",
              "      <td>0.0</td>\n",
              "      <td>0.0</td>\n",
              "      <td>0.0</td>\n",
              "      <td>0.0</td>\n",
              "      <td>0.0</td>\n",
              "      <td>0.0</td>\n",
              "      <td>0.0</td>\n",
              "      <td>0.0</td>\n",
              "      <td>0.0</td>\n",
              "      <td>0.0</td>\n",
              "      <td>...</td>\n",
              "      <td>0.0</td>\n",
              "      <td>0.0</td>\n",
              "      <td>0.0</td>\n",
              "      <td>0.0</td>\n",
              "      <td>0.0</td>\n",
              "      <td>0.0</td>\n",
              "      <td>0.0</td>\n",
              "      <td>0.0</td>\n",
              "      <td>0.0</td>\n",
              "      <td>0.0</td>\n",
              "      <td>0.0</td>\n",
              "      <td>0.0</td>\n",
              "      <td>0.0</td>\n",
              "      <td>0.0</td>\n",
              "      <td>0.0</td>\n",
              "      <td>0.0</td>\n",
              "      <td>0.0</td>\n",
              "      <td>0.0</td>\n",
              "      <td>0.0</td>\n",
              "      <td>0.0</td>\n",
              "      <td>0.0</td>\n",
              "      <td>0.0</td>\n",
              "      <td>0.0</td>\n",
              "      <td>0.0</td>\n",
              "      <td>0.0</td>\n",
              "      <td>0.0</td>\n",
              "      <td>0.0</td>\n",
              "      <td>0.0</td>\n",
              "      <td>0.0</td>\n",
              "      <td>0.0</td>\n",
              "      <td>0.0</td>\n",
              "      <td>0.0</td>\n",
              "      <td>0.0</td>\n",
              "      <td>0.0</td>\n",
              "      <td>0.0</td>\n",
              "      <td>0.0</td>\n",
              "      <td>0.0</td>\n",
              "      <td>0.000000</td>\n",
              "      <td>0.0</td>\n",
              "      <td>0.0</td>\n",
              "    </tr>\n",
              "    <tr>\n",
              "      <th>1</th>\n",
              "      <td>0.0</td>\n",
              "      <td>0.0</td>\n",
              "      <td>0.0</td>\n",
              "      <td>0.0</td>\n",
              "      <td>0.0</td>\n",
              "      <td>0.0</td>\n",
              "      <td>0.0</td>\n",
              "      <td>0.0</td>\n",
              "      <td>0.0</td>\n",
              "      <td>0.0</td>\n",
              "      <td>0.0</td>\n",
              "      <td>0.0</td>\n",
              "      <td>0.0</td>\n",
              "      <td>0.0</td>\n",
              "      <td>0.0</td>\n",
              "      <td>0.0</td>\n",
              "      <td>0.0</td>\n",
              "      <td>0.0</td>\n",
              "      <td>0.0</td>\n",
              "      <td>0.0</td>\n",
              "      <td>0.0</td>\n",
              "      <td>0.0</td>\n",
              "      <td>0.0</td>\n",
              "      <td>0.0</td>\n",
              "      <td>0.0</td>\n",
              "      <td>0.0</td>\n",
              "      <td>0.0</td>\n",
              "      <td>0.0</td>\n",
              "      <td>0.0</td>\n",
              "      <td>0.0</td>\n",
              "      <td>0.0</td>\n",
              "      <td>0.0</td>\n",
              "      <td>0.0</td>\n",
              "      <td>0.0</td>\n",
              "      <td>0.0</td>\n",
              "      <td>0.0</td>\n",
              "      <td>0.0</td>\n",
              "      <td>0.0</td>\n",
              "      <td>0.0</td>\n",
              "      <td>0.0</td>\n",
              "      <td>...</td>\n",
              "      <td>0.0</td>\n",
              "      <td>0.0</td>\n",
              "      <td>0.0</td>\n",
              "      <td>0.0</td>\n",
              "      <td>0.0</td>\n",
              "      <td>0.0</td>\n",
              "      <td>0.0</td>\n",
              "      <td>0.0</td>\n",
              "      <td>0.0</td>\n",
              "      <td>0.0</td>\n",
              "      <td>0.0</td>\n",
              "      <td>0.0</td>\n",
              "      <td>0.0</td>\n",
              "      <td>0.0</td>\n",
              "      <td>0.0</td>\n",
              "      <td>0.0</td>\n",
              "      <td>0.0</td>\n",
              "      <td>0.0</td>\n",
              "      <td>0.0</td>\n",
              "      <td>0.0</td>\n",
              "      <td>0.0</td>\n",
              "      <td>0.0</td>\n",
              "      <td>0.0</td>\n",
              "      <td>0.0</td>\n",
              "      <td>0.0</td>\n",
              "      <td>0.0</td>\n",
              "      <td>0.0</td>\n",
              "      <td>0.0</td>\n",
              "      <td>0.0</td>\n",
              "      <td>0.0</td>\n",
              "      <td>0.0</td>\n",
              "      <td>0.0</td>\n",
              "      <td>0.0</td>\n",
              "      <td>0.0</td>\n",
              "      <td>0.0</td>\n",
              "      <td>0.0</td>\n",
              "      <td>0.0</td>\n",
              "      <td>0.000000</td>\n",
              "      <td>0.0</td>\n",
              "      <td>0.0</td>\n",
              "    </tr>\n",
              "    <tr>\n",
              "      <th>2</th>\n",
              "      <td>0.0</td>\n",
              "      <td>0.0</td>\n",
              "      <td>0.0</td>\n",
              "      <td>0.0</td>\n",
              "      <td>0.0</td>\n",
              "      <td>0.0</td>\n",
              "      <td>0.0</td>\n",
              "      <td>0.0</td>\n",
              "      <td>0.0</td>\n",
              "      <td>0.0</td>\n",
              "      <td>0.0</td>\n",
              "      <td>0.0</td>\n",
              "      <td>0.0</td>\n",
              "      <td>0.0</td>\n",
              "      <td>0.0</td>\n",
              "      <td>0.0</td>\n",
              "      <td>0.0</td>\n",
              "      <td>0.0</td>\n",
              "      <td>0.0</td>\n",
              "      <td>0.0</td>\n",
              "      <td>0.0</td>\n",
              "      <td>0.0</td>\n",
              "      <td>0.0</td>\n",
              "      <td>0.0</td>\n",
              "      <td>0.0</td>\n",
              "      <td>0.0</td>\n",
              "      <td>0.0</td>\n",
              "      <td>0.0</td>\n",
              "      <td>0.0</td>\n",
              "      <td>0.0</td>\n",
              "      <td>0.0</td>\n",
              "      <td>0.0</td>\n",
              "      <td>0.0</td>\n",
              "      <td>0.0</td>\n",
              "      <td>0.0</td>\n",
              "      <td>0.0</td>\n",
              "      <td>0.0</td>\n",
              "      <td>0.0</td>\n",
              "      <td>0.0</td>\n",
              "      <td>0.0</td>\n",
              "      <td>...</td>\n",
              "      <td>0.0</td>\n",
              "      <td>0.0</td>\n",
              "      <td>0.0</td>\n",
              "      <td>0.0</td>\n",
              "      <td>0.0</td>\n",
              "      <td>0.0</td>\n",
              "      <td>0.0</td>\n",
              "      <td>0.0</td>\n",
              "      <td>0.0</td>\n",
              "      <td>0.0</td>\n",
              "      <td>0.0</td>\n",
              "      <td>0.0</td>\n",
              "      <td>0.0</td>\n",
              "      <td>0.0</td>\n",
              "      <td>0.0</td>\n",
              "      <td>0.0</td>\n",
              "      <td>0.0</td>\n",
              "      <td>0.0</td>\n",
              "      <td>0.0</td>\n",
              "      <td>0.0</td>\n",
              "      <td>0.0</td>\n",
              "      <td>0.0</td>\n",
              "      <td>0.0</td>\n",
              "      <td>0.0</td>\n",
              "      <td>0.0</td>\n",
              "      <td>0.0</td>\n",
              "      <td>0.0</td>\n",
              "      <td>0.0</td>\n",
              "      <td>0.0</td>\n",
              "      <td>0.0</td>\n",
              "      <td>0.0</td>\n",
              "      <td>0.0</td>\n",
              "      <td>0.0</td>\n",
              "      <td>0.0</td>\n",
              "      <td>0.0</td>\n",
              "      <td>0.0</td>\n",
              "      <td>0.0</td>\n",
              "      <td>0.000000</td>\n",
              "      <td>0.0</td>\n",
              "      <td>0.0</td>\n",
              "    </tr>\n",
              "    <tr>\n",
              "      <th>3</th>\n",
              "      <td>0.0</td>\n",
              "      <td>0.0</td>\n",
              "      <td>0.0</td>\n",
              "      <td>0.0</td>\n",
              "      <td>0.0</td>\n",
              "      <td>0.0</td>\n",
              "      <td>0.0</td>\n",
              "      <td>0.0</td>\n",
              "      <td>0.0</td>\n",
              "      <td>0.0</td>\n",
              "      <td>0.0</td>\n",
              "      <td>0.0</td>\n",
              "      <td>0.0</td>\n",
              "      <td>0.0</td>\n",
              "      <td>0.0</td>\n",
              "      <td>0.0</td>\n",
              "      <td>0.0</td>\n",
              "      <td>0.0</td>\n",
              "      <td>0.0</td>\n",
              "      <td>0.0</td>\n",
              "      <td>0.0</td>\n",
              "      <td>0.0</td>\n",
              "      <td>0.0</td>\n",
              "      <td>0.0</td>\n",
              "      <td>0.0</td>\n",
              "      <td>0.0</td>\n",
              "      <td>0.0</td>\n",
              "      <td>0.0</td>\n",
              "      <td>0.0</td>\n",
              "      <td>0.0</td>\n",
              "      <td>0.0</td>\n",
              "      <td>0.0</td>\n",
              "      <td>0.0</td>\n",
              "      <td>0.0</td>\n",
              "      <td>0.0</td>\n",
              "      <td>0.0</td>\n",
              "      <td>0.0</td>\n",
              "      <td>0.0</td>\n",
              "      <td>0.0</td>\n",
              "      <td>0.0</td>\n",
              "      <td>...</td>\n",
              "      <td>0.0</td>\n",
              "      <td>0.0</td>\n",
              "      <td>0.0</td>\n",
              "      <td>0.0</td>\n",
              "      <td>0.0</td>\n",
              "      <td>0.0</td>\n",
              "      <td>0.0</td>\n",
              "      <td>0.0</td>\n",
              "      <td>0.0</td>\n",
              "      <td>0.0</td>\n",
              "      <td>0.0</td>\n",
              "      <td>0.0</td>\n",
              "      <td>0.0</td>\n",
              "      <td>0.0</td>\n",
              "      <td>0.0</td>\n",
              "      <td>0.0</td>\n",
              "      <td>0.0</td>\n",
              "      <td>0.0</td>\n",
              "      <td>0.0</td>\n",
              "      <td>0.0</td>\n",
              "      <td>0.0</td>\n",
              "      <td>0.0</td>\n",
              "      <td>0.0</td>\n",
              "      <td>0.0</td>\n",
              "      <td>0.0</td>\n",
              "      <td>0.0</td>\n",
              "      <td>0.0</td>\n",
              "      <td>0.0</td>\n",
              "      <td>0.0</td>\n",
              "      <td>0.0</td>\n",
              "      <td>0.0</td>\n",
              "      <td>0.0</td>\n",
              "      <td>0.0</td>\n",
              "      <td>0.0</td>\n",
              "      <td>0.0</td>\n",
              "      <td>0.0</td>\n",
              "      <td>0.0</td>\n",
              "      <td>0.292791</td>\n",
              "      <td>0.0</td>\n",
              "      <td>0.0</td>\n",
              "    </tr>\n",
              "    <tr>\n",
              "      <th>4</th>\n",
              "      <td>0.0</td>\n",
              "      <td>0.0</td>\n",
              "      <td>0.0</td>\n",
              "      <td>0.0</td>\n",
              "      <td>0.0</td>\n",
              "      <td>0.0</td>\n",
              "      <td>0.0</td>\n",
              "      <td>0.0</td>\n",
              "      <td>0.0</td>\n",
              "      <td>0.0</td>\n",
              "      <td>0.0</td>\n",
              "      <td>0.0</td>\n",
              "      <td>0.0</td>\n",
              "      <td>0.0</td>\n",
              "      <td>0.0</td>\n",
              "      <td>0.0</td>\n",
              "      <td>0.0</td>\n",
              "      <td>0.0</td>\n",
              "      <td>0.0</td>\n",
              "      <td>0.0</td>\n",
              "      <td>0.0</td>\n",
              "      <td>0.0</td>\n",
              "      <td>0.0</td>\n",
              "      <td>0.0</td>\n",
              "      <td>0.0</td>\n",
              "      <td>0.0</td>\n",
              "      <td>0.0</td>\n",
              "      <td>0.0</td>\n",
              "      <td>0.0</td>\n",
              "      <td>0.0</td>\n",
              "      <td>0.0</td>\n",
              "      <td>0.0</td>\n",
              "      <td>0.0</td>\n",
              "      <td>0.0</td>\n",
              "      <td>0.0</td>\n",
              "      <td>0.0</td>\n",
              "      <td>0.0</td>\n",
              "      <td>0.0</td>\n",
              "      <td>0.0</td>\n",
              "      <td>0.0</td>\n",
              "      <td>...</td>\n",
              "      <td>0.0</td>\n",
              "      <td>0.0</td>\n",
              "      <td>0.0</td>\n",
              "      <td>0.0</td>\n",
              "      <td>0.0</td>\n",
              "      <td>0.0</td>\n",
              "      <td>0.0</td>\n",
              "      <td>0.0</td>\n",
              "      <td>0.0</td>\n",
              "      <td>0.0</td>\n",
              "      <td>0.0</td>\n",
              "      <td>0.0</td>\n",
              "      <td>0.0</td>\n",
              "      <td>0.0</td>\n",
              "      <td>0.0</td>\n",
              "      <td>0.0</td>\n",
              "      <td>0.0</td>\n",
              "      <td>0.0</td>\n",
              "      <td>0.0</td>\n",
              "      <td>0.0</td>\n",
              "      <td>0.0</td>\n",
              "      <td>0.0</td>\n",
              "      <td>0.0</td>\n",
              "      <td>0.0</td>\n",
              "      <td>0.0</td>\n",
              "      <td>0.0</td>\n",
              "      <td>0.0</td>\n",
              "      <td>0.0</td>\n",
              "      <td>0.0</td>\n",
              "      <td>0.0</td>\n",
              "      <td>0.0</td>\n",
              "      <td>0.0</td>\n",
              "      <td>0.0</td>\n",
              "      <td>0.0</td>\n",
              "      <td>0.0</td>\n",
              "      <td>0.0</td>\n",
              "      <td>0.0</td>\n",
              "      <td>0.347168</td>\n",
              "      <td>0.0</td>\n",
              "      <td>0.0</td>\n",
              "    </tr>\n",
              "  </tbody>\n",
              "</table>\n",
              "<p>5 rows × 2043 columns</p>\n",
              "</div>"
            ],
            "text/plain": [
              "   aamiin  abai  abdi  abie  abk  ...  yudicial  yuk     zalim  zero  zqn\n",
              "0     0.0   0.0   0.0   0.0  0.0  ...       0.0  0.0  0.000000   0.0  0.0\n",
              "1     0.0   0.0   0.0   0.0  0.0  ...       0.0  0.0  0.000000   0.0  0.0\n",
              "2     0.0   0.0   0.0   0.0  0.0  ...       0.0  0.0  0.000000   0.0  0.0\n",
              "3     0.0   0.0   0.0   0.0  0.0  ...       0.0  0.0  0.292791   0.0  0.0\n",
              "4     0.0   0.0   0.0   0.0  0.0  ...       0.0  0.0  0.347168   0.0  0.0\n",
              "\n",
              "[5 rows x 2043 columns]"
            ]
          },
          "metadata": {
            "tags": []
          },
          "execution_count": 21
        }
      ]
    },
    {
      "cell_type": "code",
      "metadata": {
        "colab": {
          "base_uri": "https://localhost:8080/"
        },
        "id": "BfCoOfbk3Ung",
        "outputId": "058fc8ec-644c-4799-8fff-350e8ef09997"
      },
      "source": [
        "X = tfidf.values\n",
        "X"
      ],
      "execution_count": 22,
      "outputs": [
        {
          "output_type": "execute_result",
          "data": {
            "text/plain": [
              "array([[0., 0., 0., ..., 0., 0., 0.],\n",
              "       [0., 0., 0., ..., 0., 0., 0.],\n",
              "       [0., 0., 0., ..., 0., 0., 0.],\n",
              "       ...,\n",
              "       [0., 0., 0., ..., 0., 0., 0.],\n",
              "       [0., 0., 0., ..., 0., 0., 0.],\n",
              "       [0., 0., 0., ..., 0., 0., 0.]])"
            ]
          },
          "metadata": {
            "tags": []
          },
          "execution_count": 22
        }
      ]
    },
    {
      "cell_type": "code",
      "metadata": {
        "colab": {
          "base_uri": "https://localhost:8080/"
        },
        "id": "DyMypZowVguO",
        "outputId": "c6c938ce-5f96-400e-be75-4bdc8bec11fb"
      },
      "source": [
        "label = np.where(df['Sentimen']=='Positif', 1, 0)\n",
        "y = label\n",
        "y[45:75]"
      ],
      "execution_count": 23,
      "outputs": [
        {
          "output_type": "execute_result",
          "data": {
            "text/plain": [
              "array([1, 1, 1, 1, 1, 1, 1, 1, 1, 1, 1, 1, 1, 1, 0, 0, 0, 0, 0, 0, 0, 0,\n",
              "       0, 0, 0, 0, 0, 0, 0, 0])"
            ]
          },
          "metadata": {
            "tags": []
          },
          "execution_count": 23
        }
      ]
    },
    {
      "cell_type": "markdown",
      "metadata": {
        "id": "9cVDYqcF3YLT"
      },
      "source": [
        "# Klasifikasi SVM-PSO (Iterasi 10 kali) - Skenario 2"
      ]
    },
    {
      "cell_type": "code",
      "metadata": {
        "id": "OZz8mZAMeqKN"
      },
      "source": [
        "from sklearn import model_selection, svm\n",
        "from sklearn.model_selection import KFold\n",
        "\n",
        "from sklearn.metrics import accuracy_score\n",
        "from sklearn.metrics import confusion_matrix\n",
        "\n",
        "from scipy.sparse import csr_matrix as matrixTransform"
      ],
      "execution_count": 24,
      "outputs": []
    },
    {
      "cell_type": "code",
      "metadata": {
        "id": "IPY3wwYJ3efh"
      },
      "source": [
        "accDum = []\n",
        "presDum = []\n",
        "recDum = []\n",
        "cmDum = []\n",
        "modelDum = []\n",
        "def classify(x):   \n",
        "    SVM = svm.SVC(gamma=abs(x[0]), C=abs(x[1]), kernel='rbf', probability=True)\n",
        "    SVM.fit(Train_X_final, y_train)\n",
        "    predictions_SVM = SVM.predict(Test_X_final)\n",
        "    CM = confusion_matrix(y_test, predictions_SVM)\n",
        "    TN = CM[0][0]\n",
        "    FN = CM[1][0]\n",
        "    TP = CM[1][1]\n",
        "    FP = CM[0][1]\n",
        "    try :\n",
        "        pres = TP/(TP+FP)\n",
        "    except :\n",
        "        print(\"\")\n",
        "    accu = (TP+TN)/(TP+FP+TN+FN)\n",
        "    recall = TP/(TP+FN)\n",
        "    accDum.append(accu)\n",
        "    recDum.append(recall)\n",
        "    presDum.append(pres)\n",
        "    cmDum.append(CM)\n",
        "    modelDum.append(SVM)\n",
        "\n",
        "    #obj.setRecall(recall)\n",
        "    #obj.setPres(pres)\n",
        "    \n",
        "    inv_acc = 1/accu\n",
        "    return inv_acc"
      ],
      "execution_count": 25,
      "outputs": []
    },
    {
      "cell_type": "code",
      "metadata": {
        "id": "7TWWfkei5KTK"
      },
      "source": [
        "def optimizing():\n",
        "    option = {'c1':0.3, 'c2':0.5, 'w':0.9}\n",
        "    bound = [(0, 1),(0.1, 10)]\n",
        "    optimizer = PSO(classify, n_particles=10, n_dim=2, options=option, iteration=10, bound=bound, lr_reduce=True)\n",
        "    param, result = optimizer.optimize()\n",
        "    acc = 1/result\n",
        "    print(\"Best Param :\", param)\n",
        "    return acc"
      ],
      "execution_count": 26,
      "outputs": []
    },
    {
      "cell_type": "code",
      "metadata": {
        "colab": {
          "base_uri": "https://localhost:8080/"
        },
        "id": "cY-0vDwD8zVe",
        "outputId": "44852dd1-88ee-41b6-c13d-8546e8a759fd"
      },
      "source": [
        "acc_scores = []\n",
        "presisi_scores = []\n",
        "recall_scores = []\n",
        "models = []\n",
        "cv = KFold(n_splits=10, random_state=32, shuffle=True)\n",
        "for train_index, test_index in cv.split(X):\n",
        "    X_train, X_test, y_train, y_test = X[train_index], X[test_index], y[train_index], y[test_index]\n",
        "    #Encoder = LabelEncoder()\n",
        "    #y_train = Encoder.fit_transform(y_train)\n",
        "    #y_test = Encoder.fit_transform(y_test)\n",
        "\n",
        "    Train_X_final = matrixTransform(X_train)\n",
        "    Test_X_final = matrixTransform(X_test)   \n",
        "    print(\"Data Train :\", len(X_train))\n",
        "    print(\"Data Test :\", len(X_test))\n",
        "\n",
        "    accDum = []\n",
        "    presDum = []\n",
        "    recDum = []\n",
        "    cmDum = []\n",
        "    modelDum = []\n",
        "    optimizing()\n",
        "\n",
        "    acc_scores.append(max(accDum))\n",
        "    presisi_scores.append(presDum[accDum.index(max(accDum))])\n",
        "    recall_scores.append(recDum[accDum.index(max(accDum))])\n",
        "    confusion = cmDum[accDum.index(max(accDum))]\n",
        "    models.append(modelDum[accDum.index(max(accDum))])\n",
        "    print(\"Confusion Matrix\")\n",
        "    print(confusion)"
      ],
      "execution_count": 27,
      "outputs": [
        {
          "output_type": "stream",
          "text": [
            "Data Train : 900\n",
            "Data Test : 100\n",
            "Update Partikel!!!\n"
          ],
          "name": "stdout"
        },
        {
          "output_type": "stream",
          "text": [
            "/usr/local/lib/python3.7/dist-packages/ipykernel_launcher.py:16: RuntimeWarning: invalid value encountered in long_scalars\n",
            "  app.launch_new_instance()\n"
          ],
          "name": "stderr"
        },
        {
          "output_type": "stream",
          "text": [
            "Best Param : [0.24512542 7.93453002]\n",
            "Confusion Matrix\n",
            "[[43  5]\n",
            " [ 5 47]]\n",
            "Data Train : 900\n",
            "Data Test : 100\n",
            "Update Partikel!!!\n",
            "Best Param : [ 0.10455081 -5.19324845]\n",
            "Confusion Matrix\n",
            "[[43  2]\n",
            " [ 0 55]]\n",
            "Data Train : 900\n",
            "Data Test : 100\n",
            "Update Partikel!!!\n",
            "Best Param : [0.54159991 5.61351868]\n",
            "Confusion Matrix\n",
            "[[44  1]\n",
            " [ 7 48]]\n",
            "Data Train : 900\n",
            "Data Test : 100\n",
            "Update Partikel!!!\n",
            "Best Param : [0.85966606 4.13252101]\n",
            "Confusion Matrix\n",
            "[[55  0]\n",
            " [ 2 43]]\n",
            "Data Train : 900\n",
            "Data Test : 100\n",
            "Update Partikel!!!\n",
            "Best Param : [1.34715509 6.80114415]\n",
            "Confusion Matrix\n",
            "[[47  0]\n",
            " [ 2 51]]\n",
            "Data Train : 900\n",
            "Data Test : 100\n",
            "Update Partikel!!!\n",
            "Best Param : [0.06677248 6.28660792]\n",
            "Confusion Matrix\n",
            "[[44  0]\n",
            " [ 2 54]]\n",
            "Data Train : 900\n",
            "Data Test : 100\n",
            "Update Partikel!!!\n",
            "Best Param : [0.51164102 1.30840394]\n",
            "Confusion Matrix\n",
            "[[56  3]\n",
            " [ 3 38]]\n",
            "Data Train : 900\n",
            "Data Test : 100\n",
            "Update Partikel!!!\n",
            "Best Param : [0.36762546 4.78064438]\n",
            "Confusion Matrix\n",
            "[[53  1]\n",
            " [ 3 43]]\n",
            "Data Train : 900\n",
            "Data Test : 100\n",
            "Update Partikel!!!\n",
            "Best Param : [ 0.55842192 -1.06057575]\n",
            "Confusion Matrix\n",
            "[[51  2]\n",
            " [ 9 38]]\n",
            "Data Train : 900\n",
            "Data Test : 100\n",
            "Update Partikel!!!\n",
            "Best Param : [ 0.59034715 -4.58141668]\n",
            "Confusion Matrix\n",
            "[[49  1]\n",
            " [ 3 47]]\n"
          ],
          "name": "stdout"
        }
      ]
    },
    {
      "cell_type": "code",
      "metadata": {
        "colab": {
          "base_uri": "https://localhost:8080/"
        },
        "id": "4Wk84Tkm9WnG",
        "outputId": "096b15e8-18d9-47cf-b64d-7386fc0cb591"
      },
      "source": [
        "print(\"Pengujian dengan optimasi...\")\n",
        "print(\"Accuracy :\", acc_scores)\n",
        "print(\"Presisi :\", presisi_scores)\n",
        "print(\"Recall :\", recall_scores)\n",
        "print(\"Accuracy Average :\", np.mean(acc_scores))\n",
        "print(\"Presisi Average :\", np.mean(presisi_scores))\n",
        "print(\"Recall Average :\", np.mean(recall_scores))"
      ],
      "execution_count": 28,
      "outputs": [
        {
          "output_type": "stream",
          "text": [
            "Pengujian dengan optimasi...\n",
            "Accuracy : [0.9, 0.98, 0.92, 0.98, 0.98, 0.98, 0.94, 0.96, 0.89, 0.96]\n",
            "Presisi : [0.9038461538461539, 0.9649122807017544, 0.9795918367346939, 1.0, 1.0, 1.0, 0.926829268292683, 0.9772727272727273, 0.95, 0.9791666666666666]\n",
            "Recall : [0.9038461538461539, 1.0, 0.8727272727272727, 0.9555555555555556, 0.9622641509433962, 0.9642857142857143, 0.926829268292683, 0.9347826086956522, 0.8085106382978723, 0.94]\n",
            "Accuracy Average : 0.9489999999999998\n",
            "Presisi Average : 0.9681618933514677\n",
            "Recall Average : 0.9268801362644299\n"
          ],
          "name": "stdout"
        }
      ]
    },
    {
      "cell_type": "code",
      "metadata": {
        "id": "FwH2uK3VFva3"
      },
      "source": [
        ""
      ],
      "execution_count": 28,
      "outputs": []
    }
  ]
}